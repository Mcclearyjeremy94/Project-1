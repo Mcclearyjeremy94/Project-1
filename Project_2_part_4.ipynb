{
  "nbformat": 4,
  "nbformat_minor": 0,
  "metadata": {
    "colab": {
      "provenance": [],
      "authorship_tag": "ABX9TyPtzTVpeB4oFOy3SWp3upE1",
      "include_colab_link": true
    },
    "kernelspec": {
      "name": "python3",
      "display_name": "Python 3"
    },
    "language_info": {
      "name": "python"
    }
  },
  "cells": [
    {
      "cell_type": "markdown",
      "metadata": {
        "id": "view-in-github",
        "colab_type": "text"
      },
      "source": [
        "<a href=\"https://colab.research.google.com/github/Mcclearyjeremy94/Project-1/blob/main/Project_2_part_4.ipynb\" target=\"_parent\"><img src=\"https://colab.research.google.com/assets/colab-badge.svg\" alt=\"Open In Colab\"/></a>"
      ]
    },
    {
      "cell_type": "code",
      "execution_count": 1,
      "metadata": {
        "colab": {
          "base_uri": "https://localhost:8080/"
        },
        "id": "cHQM-MeMQZ_p",
        "outputId": "f4355f12-0521-4c35-82b0-f16cb03861bf"
      },
      "outputs": [
        {
          "output_type": "stream",
          "name": "stdout",
          "text": [
            "Drive already mounted at /content/drive; to attempt to forcibly remount, call drive.mount(\"/content/drive\", force_remount=True).\n"
          ]
        }
      ],
      "source": [
        "from google.colab import drive\n",
        "drive.mount('/content/drive')"
      ]
    },
    {
      "cell_type": "code",
      "source": [
        "#imports\n",
        "import pandas as pd\n",
        "import seaborn as sns\n",
        "import matplotlib.pyplot as plt\n",
        "import numpy as np\n",
        "from sklearn.model_selection import train_test_split\n",
        "from sklearn.neighbors import KNeighborsClassifier\n",
        "from sklearn.compose import make_column_selector, make_column_transformer\n",
        "from sklearn.impute import SimpleImputer\n",
        "from sklearn.linear_model import LogisticRegression\n",
        "from sklearn import set_config\n",
        "from sklearn.pipeline import make_pipeline\n",
        "from sklearn.preprocessing import StandardScaler\n",
        "from sklearn.metrics import accuracy_score\n",
        "from sklearn.decomposition import PCA\n",
        "set_config(display='diagram')\n"
      ],
      "metadata": {
        "id": "wG5aYE4kQnoa"
      },
      "execution_count": 49,
      "outputs": []
    },
    {
      "cell_type": "code",
      "source": [
        "path = '/content/drive/MyDrive/healthcare-dataset-stroke-data.csv'\n",
        "df= pd.read_csv(path)\n",
        "df.head()"
      ],
      "metadata": {
        "colab": {
          "base_uri": "https://localhost:8080/",
          "height": 204
        },
        "id": "OkoUTcxBQwCN",
        "outputId": "f78b9718-6ae4-42e0-a701-42e26afb5886"
      },
      "execution_count": 3,
      "outputs": [
        {
          "output_type": "execute_result",
          "data": {
            "text/plain": [
              "      id  gender   age  hypertension  heart_disease ever_married  \\\n",
              "0   9046    Male  67.0             0              1          Yes   \n",
              "1  51676  Female  61.0             0              0          Yes   \n",
              "2  31112    Male  80.0             0              1          Yes   \n",
              "3  60182  Female  49.0             0              0          Yes   \n",
              "4   1665  Female  79.0             1              0          Yes   \n",
              "\n",
              "       work_type Residence_type  avg_glucose_level   bmi   smoking_status  \\\n",
              "0        Private          Urban             228.69  36.6  formerly smoked   \n",
              "1  Self-employed          Rural             202.21   NaN     never smoked   \n",
              "2        Private          Rural             105.92  32.5     never smoked   \n",
              "3        Private          Urban             171.23  34.4           smokes   \n",
              "4  Self-employed          Rural             174.12  24.0     never smoked   \n",
              "\n",
              "   stroke  \n",
              "0       1  \n",
              "1       1  \n",
              "2       1  \n",
              "3       1  \n",
              "4       1  "
            ],
            "text/html": [
              "\n",
              "  <div id=\"df-18565ffa-0d6b-42ba-ac63-cd98deee3fc0\">\n",
              "    <div class=\"colab-df-container\">\n",
              "      <div>\n",
              "<style scoped>\n",
              "    .dataframe tbody tr th:only-of-type {\n",
              "        vertical-align: middle;\n",
              "    }\n",
              "\n",
              "    .dataframe tbody tr th {\n",
              "        vertical-align: top;\n",
              "    }\n",
              "\n",
              "    .dataframe thead th {\n",
              "        text-align: right;\n",
              "    }\n",
              "</style>\n",
              "<table border=\"1\" class=\"dataframe\">\n",
              "  <thead>\n",
              "    <tr style=\"text-align: right;\">\n",
              "      <th></th>\n",
              "      <th>id</th>\n",
              "      <th>gender</th>\n",
              "      <th>age</th>\n",
              "      <th>hypertension</th>\n",
              "      <th>heart_disease</th>\n",
              "      <th>ever_married</th>\n",
              "      <th>work_type</th>\n",
              "      <th>Residence_type</th>\n",
              "      <th>avg_glucose_level</th>\n",
              "      <th>bmi</th>\n",
              "      <th>smoking_status</th>\n",
              "      <th>stroke</th>\n",
              "    </tr>\n",
              "  </thead>\n",
              "  <tbody>\n",
              "    <tr>\n",
              "      <th>0</th>\n",
              "      <td>9046</td>\n",
              "      <td>Male</td>\n",
              "      <td>67.0</td>\n",
              "      <td>0</td>\n",
              "      <td>1</td>\n",
              "      <td>Yes</td>\n",
              "      <td>Private</td>\n",
              "      <td>Urban</td>\n",
              "      <td>228.69</td>\n",
              "      <td>36.6</td>\n",
              "      <td>formerly smoked</td>\n",
              "      <td>1</td>\n",
              "    </tr>\n",
              "    <tr>\n",
              "      <th>1</th>\n",
              "      <td>51676</td>\n",
              "      <td>Female</td>\n",
              "      <td>61.0</td>\n",
              "      <td>0</td>\n",
              "      <td>0</td>\n",
              "      <td>Yes</td>\n",
              "      <td>Self-employed</td>\n",
              "      <td>Rural</td>\n",
              "      <td>202.21</td>\n",
              "      <td>NaN</td>\n",
              "      <td>never smoked</td>\n",
              "      <td>1</td>\n",
              "    </tr>\n",
              "    <tr>\n",
              "      <th>2</th>\n",
              "      <td>31112</td>\n",
              "      <td>Male</td>\n",
              "      <td>80.0</td>\n",
              "      <td>0</td>\n",
              "      <td>1</td>\n",
              "      <td>Yes</td>\n",
              "      <td>Private</td>\n",
              "      <td>Rural</td>\n",
              "      <td>105.92</td>\n",
              "      <td>32.5</td>\n",
              "      <td>never smoked</td>\n",
              "      <td>1</td>\n",
              "    </tr>\n",
              "    <tr>\n",
              "      <th>3</th>\n",
              "      <td>60182</td>\n",
              "      <td>Female</td>\n",
              "      <td>49.0</td>\n",
              "      <td>0</td>\n",
              "      <td>0</td>\n",
              "      <td>Yes</td>\n",
              "      <td>Private</td>\n",
              "      <td>Urban</td>\n",
              "      <td>171.23</td>\n",
              "      <td>34.4</td>\n",
              "      <td>smokes</td>\n",
              "      <td>1</td>\n",
              "    </tr>\n",
              "    <tr>\n",
              "      <th>4</th>\n",
              "      <td>1665</td>\n",
              "      <td>Female</td>\n",
              "      <td>79.0</td>\n",
              "      <td>1</td>\n",
              "      <td>0</td>\n",
              "      <td>Yes</td>\n",
              "      <td>Self-employed</td>\n",
              "      <td>Rural</td>\n",
              "      <td>174.12</td>\n",
              "      <td>24.0</td>\n",
              "      <td>never smoked</td>\n",
              "      <td>1</td>\n",
              "    </tr>\n",
              "  </tbody>\n",
              "</table>\n",
              "</div>\n",
              "      <button class=\"colab-df-convert\" onclick=\"convertToInteractive('df-18565ffa-0d6b-42ba-ac63-cd98deee3fc0')\"\n",
              "              title=\"Convert this dataframe to an interactive table.\"\n",
              "              style=\"display:none;\">\n",
              "        \n",
              "  <svg xmlns=\"http://www.w3.org/2000/svg\" height=\"24px\"viewBox=\"0 0 24 24\"\n",
              "       width=\"24px\">\n",
              "    <path d=\"M0 0h24v24H0V0z\" fill=\"none\"/>\n",
              "    <path d=\"M18.56 5.44l.94 2.06.94-2.06 2.06-.94-2.06-.94-.94-2.06-.94 2.06-2.06.94zm-11 1L8.5 8.5l.94-2.06 2.06-.94-2.06-.94L8.5 2.5l-.94 2.06-2.06.94zm10 10l.94 2.06.94-2.06 2.06-.94-2.06-.94-.94-2.06-.94 2.06-2.06.94z\"/><path d=\"M17.41 7.96l-1.37-1.37c-.4-.4-.92-.59-1.43-.59-.52 0-1.04.2-1.43.59L10.3 9.45l-7.72 7.72c-.78.78-.78 2.05 0 2.83L4 21.41c.39.39.9.59 1.41.59.51 0 1.02-.2 1.41-.59l7.78-7.78 2.81-2.81c.8-.78.8-2.07 0-2.86zM5.41 20L4 18.59l7.72-7.72 1.47 1.35L5.41 20z\"/>\n",
              "  </svg>\n",
              "      </button>\n",
              "      \n",
              "  <style>\n",
              "    .colab-df-container {\n",
              "      display:flex;\n",
              "      flex-wrap:wrap;\n",
              "      gap: 12px;\n",
              "    }\n",
              "\n",
              "    .colab-df-convert {\n",
              "      background-color: #E8F0FE;\n",
              "      border: none;\n",
              "      border-radius: 50%;\n",
              "      cursor: pointer;\n",
              "      display: none;\n",
              "      fill: #1967D2;\n",
              "      height: 32px;\n",
              "      padding: 0 0 0 0;\n",
              "      width: 32px;\n",
              "    }\n",
              "\n",
              "    .colab-df-convert:hover {\n",
              "      background-color: #E2EBFA;\n",
              "      box-shadow: 0px 1px 2px rgba(60, 64, 67, 0.3), 0px 1px 3px 1px rgba(60, 64, 67, 0.15);\n",
              "      fill: #174EA6;\n",
              "    }\n",
              "\n",
              "    [theme=dark] .colab-df-convert {\n",
              "      background-color: #3B4455;\n",
              "      fill: #D2E3FC;\n",
              "    }\n",
              "\n",
              "    [theme=dark] .colab-df-convert:hover {\n",
              "      background-color: #434B5C;\n",
              "      box-shadow: 0px 1px 3px 1px rgba(0, 0, 0, 0.15);\n",
              "      filter: drop-shadow(0px 1px 2px rgba(0, 0, 0, 0.3));\n",
              "      fill: #FFFFFF;\n",
              "    }\n",
              "  </style>\n",
              "\n",
              "      <script>\n",
              "        const buttonEl =\n",
              "          document.querySelector('#df-18565ffa-0d6b-42ba-ac63-cd98deee3fc0 button.colab-df-convert');\n",
              "        buttonEl.style.display =\n",
              "          google.colab.kernel.accessAllowed ? 'block' : 'none';\n",
              "\n",
              "        async function convertToInteractive(key) {\n",
              "          const element = document.querySelector('#df-18565ffa-0d6b-42ba-ac63-cd98deee3fc0');\n",
              "          const dataTable =\n",
              "            await google.colab.kernel.invokeFunction('convertToInteractive',\n",
              "                                                     [key], {});\n",
              "          if (!dataTable) return;\n",
              "\n",
              "          const docLinkHtml = 'Like what you see? Visit the ' +\n",
              "            '<a target=\"_blank\" href=https://colab.research.google.com/notebooks/data_table.ipynb>data table notebook</a>'\n",
              "            + ' to learn more about interactive tables.';\n",
              "          element.innerHTML = '';\n",
              "          dataTable['output_type'] = 'display_data';\n",
              "          await google.colab.output.renderOutput(dataTable, element);\n",
              "          const docLink = document.createElement('div');\n",
              "          docLink.innerHTML = docLinkHtml;\n",
              "          element.appendChild(docLink);\n",
              "        }\n",
              "      </script>\n",
              "    </div>\n",
              "  </div>\n",
              "  "
            ]
          },
          "metadata": {},
          "execution_count": 3
        }
      ]
    },
    {
      "cell_type": "code",
      "source": [
        "#make a copy of the original data to not ruin any of the original data\n",
        "ml_df= df.copy()"
      ],
      "metadata": {
        "id": "Xk6UstKSQ9fh"
      },
      "execution_count": 4,
      "outputs": []
    },
    {
      "cell_type": "code",
      "source": [
        "ml_df.info()\n",
        "#from this list I think I can take out the columns: 'id', 'gender', 'ever_married', 'work_type', and also the 'Residence_type'.\n",
        "#they do not contain any substantial data I feel that will affect determining if the patient will have a stroke or not"
      ],
      "metadata": {
        "colab": {
          "base_uri": "https://localhost:8080/"
        },
        "id": "1XUR_VFKRLAo",
        "outputId": "68a9068a-26eb-450e-94d1-9f9f306089b4"
      },
      "execution_count": 5,
      "outputs": [
        {
          "output_type": "stream",
          "name": "stdout",
          "text": [
            "<class 'pandas.core.frame.DataFrame'>\n",
            "RangeIndex: 5110 entries, 0 to 5109\n",
            "Data columns (total 12 columns):\n",
            " #   Column             Non-Null Count  Dtype  \n",
            "---  ------             --------------  -----  \n",
            " 0   id                 5110 non-null   int64  \n",
            " 1   gender             5110 non-null   object \n",
            " 2   age                5110 non-null   float64\n",
            " 3   hypertension       5110 non-null   int64  \n",
            " 4   heart_disease      5110 non-null   int64  \n",
            " 5   ever_married       5110 non-null   object \n",
            " 6   work_type          5110 non-null   object \n",
            " 7   Residence_type     5110 non-null   object \n",
            " 8   avg_glucose_level  5110 non-null   float64\n",
            " 9   bmi                4909 non-null   float64\n",
            " 10  smoking_status     5110 non-null   object \n",
            " 11  stroke             5110 non-null   int64  \n",
            "dtypes: float64(3), int64(4), object(5)\n",
            "memory usage: 479.2+ KB\n"
          ]
        }
      ]
    },
    {
      "cell_type": "code",
      "source": [
        "ml_df.drop(columns= ['id','gender','ever_married','work_type','Residence_type'], inplace=True)\n",
        "ml_df.info()\n",
        "#these 6 columns seem to be the only columns that actually have any information that would pertain to the actual target"
      ],
      "metadata": {
        "colab": {
          "base_uri": "https://localhost:8080/"
        },
        "id": "pM2aP2HmRyEn",
        "outputId": "f43d7f50-f244-4233-e56a-7d50b02c76ea"
      },
      "execution_count": 6,
      "outputs": [
        {
          "output_type": "stream",
          "name": "stdout",
          "text": [
            "<class 'pandas.core.frame.DataFrame'>\n",
            "RangeIndex: 5110 entries, 0 to 5109\n",
            "Data columns (total 7 columns):\n",
            " #   Column             Non-Null Count  Dtype  \n",
            "---  ------             --------------  -----  \n",
            " 0   age                5110 non-null   float64\n",
            " 1   hypertension       5110 non-null   int64  \n",
            " 2   heart_disease      5110 non-null   int64  \n",
            " 3   avg_glucose_level  5110 non-null   float64\n",
            " 4   bmi                4909 non-null   float64\n",
            " 5   smoking_status     5110 non-null   object \n",
            " 6   stroke             5110 non-null   int64  \n",
            "dtypes: float64(3), int64(3), object(1)\n",
            "memory usage: 279.6+ KB\n"
          ]
        }
      ]
    },
    {
      "cell_type": "code",
      "source": [
        "#lets now check for duplicates\n",
        "ml_df.duplicated().sum()\n",
        "#there are no duplicates in the data which is good"
      ],
      "metadata": {
        "colab": {
          "base_uri": "https://localhost:8080/"
        },
        "id": "imIe1CdeS0pF",
        "outputId": "2a7356da-dd61-43c2-ec5c-aa4abbe8304a"
      },
      "execution_count": 7,
      "outputs": [
        {
          "output_type": "execute_result",
          "data": {
            "text/plain": [
              "0"
            ]
          },
          "metadata": {},
          "execution_count": 7
        }
      ]
    },
    {
      "cell_type": "code",
      "source": [
        "#lets check for missing values\n",
        "ml_df.isna().sum()\n",
        "#we will be able to fix that using a mean imputer later"
      ],
      "metadata": {
        "colab": {
          "base_uri": "https://localhost:8080/"
        },
        "id": "9VDXMB2zS8iq",
        "outputId": "b4436b64-49a7-4f57-8e73-333d26c69c5c"
      },
      "execution_count": 8,
      "outputs": [
        {
          "output_type": "execute_result",
          "data": {
            "text/plain": [
              "age                    0\n",
              "hypertension           0\n",
              "heart_disease          0\n",
              "avg_glucose_level      0\n",
              "bmi                  201\n",
              "smoking_status         0\n",
              "stroke                 0\n",
              "dtype: int64"
            ]
          },
          "metadata": {},
          "execution_count": 8
        }
      ]
    },
    {
      "cell_type": "code",
      "source": [
        "mean_imputer= SimpleImputer(strategy= 'mean')\n",
        "num_selector= make_column_selector(dtype_include='number')\n",
        "num_columns=num_selector(ml_df)"
      ],
      "metadata": {
        "id": "0aEuYUQ6KrKw"
      },
      "execution_count": 9,
      "outputs": []
    },
    {
      "cell_type": "code",
      "source": [
        "ml_df['smoking_status'].value_counts()"
      ],
      "metadata": {
        "colab": {
          "base_uri": "https://localhost:8080/"
        },
        "id": "yWdeSO7hLGrD",
        "outputId": "ce6b4c78-196e-4788-d223-a29f721aa3bc"
      },
      "execution_count": 10,
      "outputs": [
        {
          "output_type": "execute_result",
          "data": {
            "text/plain": [
              "never smoked       1892\n",
              "Unknown            1544\n",
              "formerly smoked     885\n",
              "smokes              789\n",
              "Name: smoking_status, dtype: int64"
            ]
          },
          "metadata": {},
          "execution_count": 10
        }
      ]
    },
    {
      "cell_type": "code",
      "source": [
        "#checking for any inconsitencies indata\n",
        "ml_df['age'].dtype\n",
        "#lets change these all of these to intergers and not floats\n",
        "ml_df['age']= ml_df['age'].astype(int)\n",
        "#lets now check if that is correct\n",
        "ml_df['age'].dtype\n",
        "#that looks better now"
      ],
      "metadata": {
        "colab": {
          "base_uri": "https://localhost:8080/"
        },
        "id": "bZeVO4aUTYrO",
        "outputId": "6b46747e-f2d3-464b-b72e-a8a53097eb0c"
      },
      "execution_count": 11,
      "outputs": [
        {
          "output_type": "execute_result",
          "data": {
            "text/plain": [
              "dtype('int64')"
            ]
          },
          "metadata": {},
          "execution_count": 11
        }
      ]
    },
    {
      "cell_type": "code",
      "source": [
        "#lets check for outliers in the rest of the data\n",
        "#after doing multiple checks it seems that there are no outliers in the data as well"
      ],
      "metadata": {
        "id": "HKsiJKHoVhqz"
      },
      "execution_count": 12,
      "outputs": []
    },
    {
      "cell_type": "code",
      "source": [
        "ax_age = sns.barplot(data = ml_df, x = 'stroke', y = 'age')\n",
        "ax_age"
      ],
      "metadata": {
        "colab": {
          "base_uri": "https://localhost:8080/",
          "height": 296
        },
        "id": "PTOAXOGjmZAY",
        "outputId": "dee7102c-9f8a-4e7f-8c09-5d61478da2fd"
      },
      "execution_count": 13,
      "outputs": [
        {
          "output_type": "execute_result",
          "data": {
            "text/plain": [
              "<matplotlib.axes._subplots.AxesSubplot at 0x7fe1f3242a10>"
            ]
          },
          "metadata": {},
          "execution_count": 13
        },
        {
          "output_type": "display_data",
          "data": {
            "text/plain": [
              "<Figure size 432x288 with 1 Axes>"
            ],
            "image/png": "[encoded data removed]"
          },
          "metadata": {
            "needs_background": "light"
          }
        }
      ]
    },
    {
      "cell_type": "code",
      "source": [
        "ax_hypertension= sns.barplot(data= ml_df, x='stroke', y='hypertension')\n",
        "ax_hypertension"
      ],
      "metadata": {
        "colab": {
          "base_uri": "https://localhost:8080/",
          "height": 296
        },
        "id": "biA8zlIFmwpV",
        "outputId": "aedccb99-22a4-46f0-a837-a76bd7af8bc8"
      },
      "execution_count": 14,
      "outputs": [
        {
          "output_type": "execute_result",
          "data": {
            "text/plain": [
              "<matplotlib.axes._subplots.AxesSubplot at 0x7fe1f318dc50>"
            ]
          },
          "metadata": {},
          "execution_count": 14
        },
        {
          "output_type": "display_data",
          "data": {
            "text/plain": [
              "<Figure size 432x288 with 1 Axes>"
            ],
            "image/png": "[encoded data removed]"
          },
          "metadata": {
            "needs_background": "light"
          }
        }
      ]
    },
    {
      "cell_type": "code",
      "source": [
        "ax_heart_disease= sns.barplot(data= ml_df, x='stroke', y='heart_disease')\n",
        "ax_heart_disease;"
      ],
      "metadata": {
        "colab": {
          "base_uri": "https://localhost:8080/",
          "height": 279
        },
        "id": "8t-tG9gfnAQO",
        "outputId": "073b8a97-88d2-48a9-c5c4-525ea744f524"
      },
      "execution_count": 15,
      "outputs": [
        {
          "output_type": "display_data",
          "data": {
            "text/plain": [
              "<Figure size 432x288 with 1 Axes>"
            ],
            "image/png": "[encoded data removed]"
          },
          "metadata": {
            "needs_background": "light"
          }
        }
      ]
    },
    {
      "cell_type": "code",
      "source": [
        "ax_glucose_level= sns.barplot(data= ml_df, x='stroke', y='avg_glucose_level')\n",
        "ax_glucose_level;"
      ],
      "metadata": {
        "colab": {
          "base_uri": "https://localhost:8080/",
          "height": 279
        },
        "id": "kTQGD52YnQSy",
        "outputId": "81cd5893-0083-422e-ad7d-a5751aa761d7"
      },
      "execution_count": 16,
      "outputs": [
        {
          "output_type": "display_data",
          "data": {
            "text/plain": [
              "<Figure size 432x288 with 1 Axes>"
            ],
            "image/png": "[encoded data removed]"
          },
          "metadata": {
            "needs_background": "light"
          }
        }
      ]
    },
    {
      "cell_type": "code",
      "source": [
        "ax_bmi= sns.barplot(data= ml_df, x='stroke', y='bmi')\n",
        "ax_bmi;"
      ],
      "metadata": {
        "colab": {
          "base_uri": "https://localhost:8080/",
          "height": 279
        },
        "id": "P-gGLzLhninQ",
        "outputId": "dd6eb535-2d25-403a-fd2c-cf9e41e85840"
      },
      "execution_count": 17,
      "outputs": [
        {
          "output_type": "display_data",
          "data": {
            "text/plain": [
              "<Figure size 432x288 with 1 Axes>"
            ],
            "image/png": "[encoded data removed]"
          },
          "metadata": {
            "needs_background": "light"
          }
        }
      ]
    },
    {
      "cell_type": "code",
      "source": [
        "ax_smoking_status= sns.barplot(data= ml_df, x='smoking_status', y='stroke')\n",
        "ax_smoking_status;"
      ],
      "metadata": {
        "colab": {
          "base_uri": "https://localhost:8080/",
          "height": 280
        },
        "id": "dw-Rxgg7n0qU",
        "outputId": "bdbeab85-62ac-4252-d911-2ffa8f4ce8b7"
      },
      "execution_count": 18,
      "outputs": [
        {
          "output_type": "display_data",
          "data": {
            "text/plain": [
              "<Figure size 432x288 with 1 Axes>"
            ],
            "image/png": "[encoded data removed]"
          },
          "metadata": {
            "needs_background": "light"
          }
        }
      ]
    },
    {
      "cell_type": "markdown",
      "source": [
        "#I decided when cleaning the data to remove the,'id','gender','ever_married','work_type','Residence_type', columns from the data seeing as they didnt specifically pertain to the actual target itself(stroke or not having a stroke)."
      ],
      "metadata": {
        "id": "wPHfkGECXWQ6"
      }
    },
    {
      "cell_type": "markdown",
      "source": [
        "#I will now split the data to figure out future results on if the persons will be more or less likely to have a stroke\n"
      ],
      "metadata": {
        "id": "GEbIbqmsTTcX"
      }
    },
    {
      "cell_type": "code",
      "source": [
        "X= ml_df.drop(columns='stroke')\n",
        "y= ml_df['stroke']\n",
        "X_train, X_test, y_train, y_test= train_test_split(X, y, random_state=42)"
      ],
      "metadata": {
        "id": "uptmhvGAT35b"
      },
      "execution_count": 20,
      "outputs": []
    },
    {
      "cell_type": "code",
      "source": [
        "num_selector= make_column_selector(dtype_include='number')\n",
        "cat_selector= make_column_selector(dtype_include='object')"
      ],
      "metadata": {
        "id": "itDWohRFTJuf"
      },
      "execution_count": 21,
      "outputs": []
    },
    {
      "cell_type": "code",
      "source": [
        "cat_selector(X_train)"
      ],
      "metadata": {
        "colab": {
          "base_uri": "https://localhost:8080/"
        },
        "id": "8ghKMEUXUviH",
        "outputId": "728a684e-73de-400b-9d9d-f25a6bf19acb"
      },
      "execution_count": 22,
      "outputs": [
        {
          "output_type": "execute_result",
          "data": {
            "text/plain": [
              "['smoking_status']"
            ]
          },
          "metadata": {},
          "execution_count": 22
        }
      ]
    },
    {
      "cell_type": "code",
      "source": [
        "#I will now change the smoking status to numbers to have it all be numerical data\n",
        "X_train['smoking_status'].value_counts()"
      ],
      "metadata": {
        "colab": {
          "base_uri": "https://localhost:8080/"
        },
        "id": "BjxY9S-DU1qT",
        "outputId": "1f72f420-4054-4788-bd6e-39988920a740"
      },
      "execution_count": 24,
      "outputs": [
        {
          "output_type": "execute_result",
          "data": {
            "text/plain": [
              "never smoked       1424\n",
              "Unknown            1146\n",
              "formerly smoked     673\n",
              "smokes              589\n",
              "Name: smoking_status, dtype: int64"
            ]
          },
          "metadata": {},
          "execution_count": 24
        }
      ]
    },
    {
      "cell_type": "code",
      "source": [
        "X_train['smoking_status']= X_train['smoking_status'].replace('never smoked', 0)\n",
        "X_train['smoking_status']= X_train['smoking_status'].replace('Unknown', 1)\n",
        "X_train['smoking_status']= X_train['smoking_status'].replace('formerly smoked',2)\n",
        "X_train['smoking_status']= X_train['smoking_status'].replace('smokes',3)\n",
        "X_train['smoking_status'].value_counts()\n",
        "#We can now work with this data now that all of our data is numeric values"
      ],
      "metadata": {
        "colab": {
          "base_uri": "https://localhost:8080/"
        },
        "id": "D8ekdRLOVN1E",
        "outputId": "40247d97-e08f-4804-f74d-e2887f042fbf"
      },
      "execution_count": 25,
      "outputs": [
        {
          "output_type": "execute_result",
          "data": {
            "text/plain": [
              "0    1424\n",
              "1    1146\n",
              "2     673\n",
              "3     589\n",
              "Name: smoking_status, dtype: int64"
            ]
          },
          "metadata": {},
          "execution_count": 25
        }
      ]
    },
    {
      "cell_type": "code",
      "source": [
        "#I will now use a mean imputer and scaler to go ahead and fit that onto the missing 'bmi' data\n",
        "mean_imputer= SimpleImputer(strategy='mean')\n",
        "scaler= StandardScaler()\n",
        "\n"
      ],
      "metadata": {
        "id": "Afq8wRtFWIHn"
      },
      "execution_count": 28,
      "outputs": []
    },
    {
      "cell_type": "code",
      "source": [
        "numeric_pipe= make_pipeline(mean_imputer,scaler)\n",
        "numeric_pipe"
      ],
      "metadata": {
        "colab": {
          "base_uri": "https://localhost:8080/",
          "height": 124
        },
        "id": "uYwUzphtYI8h",
        "outputId": "6c052c7c-8e13-434c-b9cc-edc03a1238e8"
      },
      "execution_count": 34,
      "outputs": [
        {
          "output_type": "execute_result",
          "data": {
            "text/plain": [
              "Pipeline(steps=[('simpleimputer', SimpleImputer()),\n",
              "                ('standardscaler', StandardScaler())])"
            ],
            "text/html": [
              "<style>#sk-00a08673-98a5-47ae-b1c5-5cfb9b48fb4f {color: black;background-color: white;}#sk-00a08673-98a5-47ae-b1c5-5cfb9b48fb4f pre{padding: 0;}#sk-00a08673-98a5-47ae-b1c5-5cfb9b48fb4f div.sk-toggleable {background-color: white;}#sk-00a08673-98a5-47ae-b1c5-5cfb9b48fb4f label.sk-toggleable__label {cursor: pointer;display: block;width: 100%;margin-bottom: 0;padding: 0.3em;box-sizing: border-box;text-align: center;}#sk-00a08673-98a5-47ae-b1c5-5cfb9b48fb4f label.sk-toggleable__label-arrow:before {content: \"▸\";float: left;margin-right: 0.25em;color: #696969;}#sk-00a08673-98a5-47ae-b1c5-5cfb9b48fb4f label.sk-toggleable__label-arrow:hover:before {color: black;}#sk-00a08673-98a5-47ae-b1c5-5cfb9b48fb4f div.sk-estimator:hover label.sk-toggleable__label-arrow:before {color: black;}#sk-00a08673-98a5-47ae-b1c5-5cfb9b48fb4f div.sk-toggleable__content {max-height: 0;max-width: 0;overflow: hidden;text-align: left;background-color: #f0f8ff;}#sk-00a08673-98a5-47ae-b1c5-5cfb9b48fb4f div.sk-toggleable__content pre {margin: 0.2em;color: black;border-radius: 0.25em;background-color: #f0f8ff;}#sk-00a08673-98a5-47ae-b1c5-5cfb9b48fb4f input.sk-toggleable__control:checked~div.sk-toggleable__content {max-height: 200px;max-width: 100%;overflow: auto;}#sk-00a08673-98a5-47ae-b1c5-5cfb9b48fb4f input.sk-toggleable__control:checked~label.sk-toggleable__label-arrow:before {content: \"▾\";}#sk-00a08673-98a5-47ae-b1c5-5cfb9b48fb4f div.sk-estimator input.sk-toggleable__control:checked~label.sk-toggleable__label {background-color: #d4ebff;}#sk-00a08673-98a5-47ae-b1c5-5cfb9b48fb4f div.sk-label input.sk-toggleable__control:checked~label.sk-toggleable__label {background-color: #d4ebff;}#sk-00a08673-98a5-47ae-b1c5-5cfb9b48fb4f input.sk-hidden--visually {border: 0;clip: rect(1px 1px 1px 1px);clip: rect(1px, 1px, 1px, 1px);height: 1px;margin: -1px;overflow: hidden;padding: 0;position: absolute;width: 1px;}#sk-00a08673-98a5-47ae-b1c5-5cfb9b48fb4f div.sk-estimator {font-family: monospace;background-color: #f0f8ff;border: 1px dotted black;border-radius: 0.25em;box-sizing: border-box;margin-bottom: 0.5em;}#sk-00a08673-98a5-47ae-b1c5-5cfb9b48fb4f div.sk-estimator:hover {background-color: #d4ebff;}#sk-00a08673-98a5-47ae-b1c5-5cfb9b48fb4f div.sk-parallel-item::after {content: \"\";width: 100%;border-bottom: 1px solid gray;flex-grow: 1;}#sk-00a08673-98a5-47ae-b1c5-5cfb9b48fb4f div.sk-label:hover label.sk-toggleable__label {background-color: #d4ebff;}#sk-00a08673-98a5-47ae-b1c5-5cfb9b48fb4f div.sk-serial::before {content: \"\";position: absolute;border-left: 1px solid gray;box-sizing: border-box;top: 2em;bottom: 0;left: 50%;}#sk-00a08673-98a5-47ae-b1c5-5cfb9b48fb4f div.sk-serial {display: flex;flex-direction: column;align-items: center;background-color: white;padding-right: 0.2em;padding-left: 0.2em;}#sk-00a08673-98a5-47ae-b1c5-5cfb9b48fb4f div.sk-item {z-index: 1;}#sk-00a08673-98a5-47ae-b1c5-5cfb9b48fb4f div.sk-parallel {display: flex;align-items: stretch;justify-content: center;background-color: white;}#sk-00a08673-98a5-47ae-b1c5-5cfb9b48fb4f div.sk-parallel::before {content: \"\";position: absolute;border-left: 1px solid gray;box-sizing: border-box;top: 2em;bottom: 0;left: 50%;}#sk-00a08673-98a5-47ae-b1c5-5cfb9b48fb4f div.sk-parallel-item {display: flex;flex-direction: column;position: relative;background-color: white;}#sk-00a08673-98a5-47ae-b1c5-5cfb9b48fb4f div.sk-parallel-item:first-child::after {align-self: flex-end;width: 50%;}#sk-00a08673-98a5-47ae-b1c5-5cfb9b48fb4f div.sk-parallel-item:last-child::after {align-self: flex-start;width: 50%;}#sk-00a08673-98a5-47ae-b1c5-5cfb9b48fb4f div.sk-parallel-item:only-child::after {width: 0;}#sk-00a08673-98a5-47ae-b1c5-5cfb9b48fb4f div.sk-dashed-wrapped {border: 1px dashed gray;margin: 0 0.4em 0.5em 0.4em;box-sizing: border-box;padding-bottom: 0.4em;background-color: white;position: relative;}#sk-00a08673-98a5-47ae-b1c5-5cfb9b48fb4f div.sk-label label {font-family: monospace;font-weight: bold;background-color: white;display: inline-block;line-height: 1.2em;}#sk-00a08673-98a5-47ae-b1c5-5cfb9b48fb4f div.sk-label-container {position: relative;z-index: 2;text-align: center;}#sk-00a08673-98a5-47ae-b1c5-5cfb9b48fb4f div.sk-container {/* jupyter's `normalize.less` sets `[hidden] { display: none; }` but bootstrap.min.css set `[hidden] { display: none !important; }` so we also need the `!important` here to be able to override the default hidden behavior on the sphinx rendered scikit-learn.org. See: https://github.com/scikit-learn/scikit-learn/issues/21755 */display: inline-block !important;position: relative;}#sk-00a08673-98a5-47ae-b1c5-5cfb9b48fb4f div.sk-text-repr-fallback {display: none;}</style><div id=\"sk-00a08673-98a5-47ae-b1c5-5cfb9b48fb4f\" class=\"sk-top-container\"><div class=\"sk-text-repr-fallback\"><pre>Pipeline(steps=[(&#x27;simpleimputer&#x27;, SimpleImputer()),\n",
              "                (&#x27;standardscaler&#x27;, StandardScaler())])</pre><b>Please rerun this cell to show the HTML repr or trust the notebook.</b></div><div class=\"sk-container\" hidden><div class=\"sk-item sk-dashed-wrapped\"><div class=\"sk-label-container\"><div class=\"sk-label sk-toggleable\"><input class=\"sk-toggleable__control sk-hidden--visually\" id=\"beac4e9b-89d2-4373-aead-492ab8aee958\" type=\"checkbox\" ><label for=\"beac4e9b-89d2-4373-aead-492ab8aee958\" class=\"sk-toggleable__label sk-toggleable__label-arrow\">Pipeline</label><div class=\"sk-toggleable__content\"><pre>Pipeline(steps=[(&#x27;simpleimputer&#x27;, SimpleImputer()),\n",
              "                (&#x27;standardscaler&#x27;, StandardScaler())])</pre></div></div></div><div class=\"sk-serial\"><div class=\"sk-item\"><div class=\"sk-estimator sk-toggleable\"><input class=\"sk-toggleable__control sk-hidden--visually\" id=\"b8dfecb7-9764-47ba-b95e-00532662fa57\" type=\"checkbox\" ><label for=\"b8dfecb7-9764-47ba-b95e-00532662fa57\" class=\"sk-toggleable__label sk-toggleable__label-arrow\">SimpleImputer</label><div class=\"sk-toggleable__content\"><pre>SimpleImputer()</pre></div></div></div><div class=\"sk-item\"><div class=\"sk-estimator sk-toggleable\"><input class=\"sk-toggleable__control sk-hidden--visually\" id=\"2535f70b-72a1-405b-8aae-1efffb3a7b19\" type=\"checkbox\" ><label for=\"2535f70b-72a1-405b-8aae-1efffb3a7b19\" class=\"sk-toggleable__label sk-toggleable__label-arrow\">StandardScaler</label><div class=\"sk-toggleable__content\"><pre>StandardScaler()</pre></div></div></div></div></div></div></div>"
            ]
          },
          "metadata": {},
          "execution_count": 34
        }
      ]
    },
    {
      "cell_type": "code",
      "source": [
        "number_tuple= (numeric_pipe, num_selector)\n",
        "preprocessor= make_column_transformer(number_tuple)\n",
        "preprocessor"
      ],
      "metadata": {
        "colab": {
          "base_uri": "https://localhost:8080/",
          "height": 149
        },
        "id": "PSHbWMChYpnh",
        "outputId": "3ce1f9f0-6c28-4754-b87d-668c4127ca4b"
      },
      "execution_count": 35,
      "outputs": [
        {
          "output_type": "execute_result",
          "data": {
            "text/plain": [
              "ColumnTransformer(transformers=[('pipeline',\n",
              "                                 Pipeline(steps=[('simpleimputer',\n",
              "                                                  SimpleImputer()),\n",
              "                                                 ('standardscaler',\n",
              "                                                  StandardScaler())]),\n",
              "                                 <sklearn.compose._column_transformer.make_column_selector object at 0x7fe1f1fbd790>)])"
            ],
            "text/html": [
              "<style>#sk-57c73262-bfa5-45d9-920d-9f1fff59511e {color: black;background-color: white;}#sk-57c73262-bfa5-45d9-920d-9f1fff59511e pre{padding: 0;}#sk-57c73262-bfa5-45d9-920d-9f1fff59511e div.sk-toggleable {background-color: white;}#sk-57c73262-bfa5-45d9-920d-9f1fff59511e label.sk-toggleable__label {cursor: pointer;display: block;width: 100%;margin-bottom: 0;padding: 0.3em;box-sizing: border-box;text-align: center;}#sk-57c73262-bfa5-45d9-920d-9f1fff59511e label.sk-toggleable__label-arrow:before {content: \"▸\";float: left;margin-right: 0.25em;color: #696969;}#sk-57c73262-bfa5-45d9-920d-9f1fff59511e label.sk-toggleable__label-arrow:hover:before {color: black;}#sk-57c73262-bfa5-45d9-920d-9f1fff59511e div.sk-estimator:hover label.sk-toggleable__label-arrow:before {color: black;}#sk-57c73262-bfa5-45d9-920d-9f1fff59511e div.sk-toggleable__content {max-height: 0;max-width: 0;overflow: hidden;text-align: left;background-color: #f0f8ff;}#sk-57c73262-bfa5-45d9-920d-9f1fff59511e div.sk-toggleable__content pre {margin: 0.2em;color: black;border-radius: 0.25em;background-color: #f0f8ff;}#sk-57c73262-bfa5-45d9-920d-9f1fff59511e input.sk-toggleable__control:checked~div.sk-toggleable__content {max-height: 200px;max-width: 100%;overflow: auto;}#sk-57c73262-bfa5-45d9-920d-9f1fff59511e input.sk-toggleable__control:checked~label.sk-toggleable__label-arrow:before {content: \"▾\";}#sk-57c73262-bfa5-45d9-920d-9f1fff59511e div.sk-estimator input.sk-toggleable__control:checked~label.sk-toggleable__label {background-color: #d4ebff;}#sk-57c73262-bfa5-45d9-920d-9f1fff59511e div.sk-label input.sk-toggleable__control:checked~label.sk-toggleable__label {background-color: #d4ebff;}#sk-57c73262-bfa5-45d9-920d-9f1fff59511e input.sk-hidden--visually {border: 0;clip: rect(1px 1px 1px 1px);clip: rect(1px, 1px, 1px, 1px);height: 1px;margin: -1px;overflow: hidden;padding: 0;position: absolute;width: 1px;}#sk-57c73262-bfa5-45d9-920d-9f1fff59511e div.sk-estimator {font-family: monospace;background-color: #f0f8ff;border: 1px dotted black;border-radius: 0.25em;box-sizing: border-box;margin-bottom: 0.5em;}#sk-57c73262-bfa5-45d9-920d-9f1fff59511e div.sk-estimator:hover {background-color: #d4ebff;}#sk-57c73262-bfa5-45d9-920d-9f1fff59511e div.sk-parallel-item::after {content: \"\";width: 100%;border-bottom: 1px solid gray;flex-grow: 1;}#sk-57c73262-bfa5-45d9-920d-9f1fff59511e div.sk-label:hover label.sk-toggleable__label {background-color: #d4ebff;}#sk-57c73262-bfa5-45d9-920d-9f1fff59511e div.sk-serial::before {content: \"\";position: absolute;border-left: 1px solid gray;box-sizing: border-box;top: 2em;bottom: 0;left: 50%;}#sk-57c73262-bfa5-45d9-920d-9f1fff59511e div.sk-serial {display: flex;flex-direction: column;align-items: center;background-color: white;padding-right: 0.2em;padding-left: 0.2em;}#sk-57c73262-bfa5-45d9-920d-9f1fff59511e div.sk-item {z-index: 1;}#sk-57c73262-bfa5-45d9-920d-9f1fff59511e div.sk-parallel {display: flex;align-items: stretch;justify-content: center;background-color: white;}#sk-57c73262-bfa5-45d9-920d-9f1fff59511e div.sk-parallel::before {content: \"\";position: absolute;border-left: 1px solid gray;box-sizing: border-box;top: 2em;bottom: 0;left: 50%;}#sk-57c73262-bfa5-45d9-920d-9f1fff59511e div.sk-parallel-item {display: flex;flex-direction: column;position: relative;background-color: white;}#sk-57c73262-bfa5-45d9-920d-9f1fff59511e div.sk-parallel-item:first-child::after {align-self: flex-end;width: 50%;}#sk-57c73262-bfa5-45d9-920d-9f1fff59511e div.sk-parallel-item:last-child::after {align-self: flex-start;width: 50%;}#sk-57c73262-bfa5-45d9-920d-9f1fff59511e div.sk-parallel-item:only-child::after {width: 0;}#sk-57c73262-bfa5-45d9-920d-9f1fff59511e div.sk-dashed-wrapped {border: 1px dashed gray;margin: 0 0.4em 0.5em 0.4em;box-sizing: border-box;padding-bottom: 0.4em;background-color: white;position: relative;}#sk-57c73262-bfa5-45d9-920d-9f1fff59511e div.sk-label label {font-family: monospace;font-weight: bold;background-color: white;display: inline-block;line-height: 1.2em;}#sk-57c73262-bfa5-45d9-920d-9f1fff59511e div.sk-label-container {position: relative;z-index: 2;text-align: center;}#sk-57c73262-bfa5-45d9-920d-9f1fff59511e div.sk-container {/* jupyter's `normalize.less` sets `[hidden] { display: none; }` but bootstrap.min.css set `[hidden] { display: none !important; }` so we also need the `!important` here to be able to override the default hidden behavior on the sphinx rendered scikit-learn.org. See: https://github.com/scikit-learn/scikit-learn/issues/21755 */display: inline-block !important;position: relative;}#sk-57c73262-bfa5-45d9-920d-9f1fff59511e div.sk-text-repr-fallback {display: none;}</style><div id=\"sk-57c73262-bfa5-45d9-920d-9f1fff59511e\" class=\"sk-top-container\"><div class=\"sk-text-repr-fallback\"><pre>ColumnTransformer(transformers=[(&#x27;pipeline&#x27;,\n",
              "                                 Pipeline(steps=[(&#x27;simpleimputer&#x27;,\n",
              "                                                  SimpleImputer()),\n",
              "                                                 (&#x27;standardscaler&#x27;,\n",
              "                                                  StandardScaler())]),\n",
              "                                 &lt;sklearn.compose._column_transformer.make_column_selector object at 0x7fe1f1fbd790&gt;)])</pre><b>Please rerun this cell to show the HTML repr or trust the notebook.</b></div><div class=\"sk-container\" hidden><div class=\"sk-item sk-dashed-wrapped\"><div class=\"sk-label-container\"><div class=\"sk-label sk-toggleable\"><input class=\"sk-toggleable__control sk-hidden--visually\" id=\"caa524bd-a6fd-4fab-a54e-5c43abe67945\" type=\"checkbox\" ><label for=\"caa524bd-a6fd-4fab-a54e-5c43abe67945\" class=\"sk-toggleable__label sk-toggleable__label-arrow\">ColumnTransformer</label><div class=\"sk-toggleable__content\"><pre>ColumnTransformer(transformers=[(&#x27;pipeline&#x27;,\n",
              "                                 Pipeline(steps=[(&#x27;simpleimputer&#x27;,\n",
              "                                                  SimpleImputer()),\n",
              "                                                 (&#x27;standardscaler&#x27;,\n",
              "                                                  StandardScaler())]),\n",
              "                                 &lt;sklearn.compose._column_transformer.make_column_selector object at 0x7fe1f1fbd790&gt;)])</pre></div></div></div><div class=\"sk-parallel\"><div class=\"sk-parallel-item\"><div class=\"sk-item\"><div class=\"sk-label-container\"><div class=\"sk-label sk-toggleable\"><input class=\"sk-toggleable__control sk-hidden--visually\" id=\"80bc6e01-2ec2-4b4b-9ea7-4260a6d57d85\" type=\"checkbox\" ><label for=\"80bc6e01-2ec2-4b4b-9ea7-4260a6d57d85\" class=\"sk-toggleable__label sk-toggleable__label-arrow\">pipeline</label><div class=\"sk-toggleable__content\"><pre>&lt;sklearn.compose._column_transformer.make_column_selector object at 0x7fe1f1fbd790&gt;</pre></div></div></div><div class=\"sk-serial\"><div class=\"sk-item\"><div class=\"sk-serial\"><div class=\"sk-item\"><div class=\"sk-estimator sk-toggleable\"><input class=\"sk-toggleable__control sk-hidden--visually\" id=\"b21f7ada-1108-4371-ad0e-7bacc9ffd852\" type=\"checkbox\" ><label for=\"b21f7ada-1108-4371-ad0e-7bacc9ffd852\" class=\"sk-toggleable__label sk-toggleable__label-arrow\">SimpleImputer</label><div class=\"sk-toggleable__content\"><pre>SimpleImputer()</pre></div></div></div><div class=\"sk-item\"><div class=\"sk-estimator sk-toggleable\"><input class=\"sk-toggleable__control sk-hidden--visually\" id=\"3d7cfcf3-231c-4708-9eaa-19b34a6831ce\" type=\"checkbox\" ><label for=\"3d7cfcf3-231c-4708-9eaa-19b34a6831ce\" class=\"sk-toggleable__label sk-toggleable__label-arrow\">StandardScaler</label><div class=\"sk-toggleable__content\"><pre>StandardScaler()</pre></div></div></div></div></div></div></div></div></div></div></div></div>"
            ]
          },
          "metadata": {},
          "execution_count": 35
        }
      ]
    },
    {
      "cell_type": "code",
      "source": [
        "#I will now fit the preprocessor onto the training data and the testing data\n",
        "preprocessor.fit(X_train)\n",
        "preprocessor.fit(X_test)"
      ],
      "metadata": {
        "colab": {
          "base_uri": "https://localhost:8080/",
          "height": 149
        },
        "id": "GEYIrdzIYvu7",
        "outputId": "a9955f76-b32c-4f89-e9bd-aadaf323f126"
      },
      "execution_count": 36,
      "outputs": [
        {
          "output_type": "execute_result",
          "data": {
            "text/plain": [
              "ColumnTransformer(transformers=[('pipeline',\n",
              "                                 Pipeline(steps=[('simpleimputer',\n",
              "                                                  SimpleImputer()),\n",
              "                                                 ('standardscaler',\n",
              "                                                  StandardScaler())]),\n",
              "                                 <sklearn.compose._column_transformer.make_column_selector object at 0x7fe1f1fbd790>)])"
            ],
            "text/html": [
              "<style>#sk-9177ddf3-b94f-4d69-baf1-f6dc21e36baa {color: black;background-color: white;}#sk-9177ddf3-b94f-4d69-baf1-f6dc21e36baa pre{padding: 0;}#sk-9177ddf3-b94f-4d69-baf1-f6dc21e36baa div.sk-toggleable {background-color: white;}#sk-9177ddf3-b94f-4d69-baf1-f6dc21e36baa label.sk-toggleable__label {cursor: pointer;display: block;width: 100%;margin-bottom: 0;padding: 0.3em;box-sizing: border-box;text-align: center;}#sk-9177ddf3-b94f-4d69-baf1-f6dc21e36baa label.sk-toggleable__label-arrow:before {content: \"▸\";float: left;margin-right: 0.25em;color: #696969;}#sk-9177ddf3-b94f-4d69-baf1-f6dc21e36baa label.sk-toggleable__label-arrow:hover:before {color: black;}#sk-9177ddf3-b94f-4d69-baf1-f6dc21e36baa div.sk-estimator:hover label.sk-toggleable__label-arrow:before {color: black;}#sk-9177ddf3-b94f-4d69-baf1-f6dc21e36baa div.sk-toggleable__content {max-height: 0;max-width: 0;overflow: hidden;text-align: left;background-color: #f0f8ff;}#sk-9177ddf3-b94f-4d69-baf1-f6dc21e36baa div.sk-toggleable__content pre {margin: 0.2em;color: black;border-radius: 0.25em;background-color: #f0f8ff;}#sk-9177ddf3-b94f-4d69-baf1-f6dc21e36baa input.sk-toggleable__control:checked~div.sk-toggleable__content {max-height: 200px;max-width: 100%;overflow: auto;}#sk-9177ddf3-b94f-4d69-baf1-f6dc21e36baa input.sk-toggleable__control:checked~label.sk-toggleable__label-arrow:before {content: \"▾\";}#sk-9177ddf3-b94f-4d69-baf1-f6dc21e36baa div.sk-estimator input.sk-toggleable__control:checked~label.sk-toggleable__label {background-color: #d4ebff;}#sk-9177ddf3-b94f-4d69-baf1-f6dc21e36baa div.sk-label input.sk-toggleable__control:checked~label.sk-toggleable__label {background-color: #d4ebff;}#sk-9177ddf3-b94f-4d69-baf1-f6dc21e36baa input.sk-hidden--visually {border: 0;clip: rect(1px 1px 1px 1px);clip: rect(1px, 1px, 1px, 1px);height: 1px;margin: -1px;overflow: hidden;padding: 0;position: absolute;width: 1px;}#sk-9177ddf3-b94f-4d69-baf1-f6dc21e36baa div.sk-estimator {font-family: monospace;background-color: #f0f8ff;border: 1px dotted black;border-radius: 0.25em;box-sizing: border-box;margin-bottom: 0.5em;}#sk-9177ddf3-b94f-4d69-baf1-f6dc21e36baa div.sk-estimator:hover {background-color: #d4ebff;}#sk-9177ddf3-b94f-4d69-baf1-f6dc21e36baa div.sk-parallel-item::after {content: \"\";width: 100%;border-bottom: 1px solid gray;flex-grow: 1;}#sk-9177ddf3-b94f-4d69-baf1-f6dc21e36baa div.sk-label:hover label.sk-toggleable__label {background-color: #d4ebff;}#sk-9177ddf3-b94f-4d69-baf1-f6dc21e36baa div.sk-serial::before {content: \"\";position: absolute;border-left: 1px solid gray;box-sizing: border-box;top: 2em;bottom: 0;left: 50%;}#sk-9177ddf3-b94f-4d69-baf1-f6dc21e36baa div.sk-serial {display: flex;flex-direction: column;align-items: center;background-color: white;padding-right: 0.2em;padding-left: 0.2em;}#sk-9177ddf3-b94f-4d69-baf1-f6dc21e36baa div.sk-item {z-index: 1;}#sk-9177ddf3-b94f-4d69-baf1-f6dc21e36baa div.sk-parallel {display: flex;align-items: stretch;justify-content: center;background-color: white;}#sk-9177ddf3-b94f-4d69-baf1-f6dc21e36baa div.sk-parallel::before {content: \"\";position: absolute;border-left: 1px solid gray;box-sizing: border-box;top: 2em;bottom: 0;left: 50%;}#sk-9177ddf3-b94f-4d69-baf1-f6dc21e36baa div.sk-parallel-item {display: flex;flex-direction: column;position: relative;background-color: white;}#sk-9177ddf3-b94f-4d69-baf1-f6dc21e36baa div.sk-parallel-item:first-child::after {align-self: flex-end;width: 50%;}#sk-9177ddf3-b94f-4d69-baf1-f6dc21e36baa div.sk-parallel-item:last-child::after {align-self: flex-start;width: 50%;}#sk-9177ddf3-b94f-4d69-baf1-f6dc21e36baa div.sk-parallel-item:only-child::after {width: 0;}#sk-9177ddf3-b94f-4d69-baf1-f6dc21e36baa div.sk-dashed-wrapped {border: 1px dashed gray;margin: 0 0.4em 0.5em 0.4em;box-sizing: border-box;padding-bottom: 0.4em;background-color: white;position: relative;}#sk-9177ddf3-b94f-4d69-baf1-f6dc21e36baa div.sk-label label {font-family: monospace;font-weight: bold;background-color: white;display: inline-block;line-height: 1.2em;}#sk-9177ddf3-b94f-4d69-baf1-f6dc21e36baa div.sk-label-container {position: relative;z-index: 2;text-align: center;}#sk-9177ddf3-b94f-4d69-baf1-f6dc21e36baa div.sk-container {/* jupyter's `normalize.less` sets `[hidden] { display: none; }` but bootstrap.min.css set `[hidden] { display: none !important; }` so we also need the `!important` here to be able to override the default hidden behavior on the sphinx rendered scikit-learn.org. See: https://github.com/scikit-learn/scikit-learn/issues/21755 */display: inline-block !important;position: relative;}#sk-9177ddf3-b94f-4d69-baf1-f6dc21e36baa div.sk-text-repr-fallback {display: none;}</style><div id=\"sk-9177ddf3-b94f-4d69-baf1-f6dc21e36baa\" class=\"sk-top-container\"><div class=\"sk-text-repr-fallback\"><pre>ColumnTransformer(transformers=[(&#x27;pipeline&#x27;,\n",
              "                                 Pipeline(steps=[(&#x27;simpleimputer&#x27;,\n",
              "                                                  SimpleImputer()),\n",
              "                                                 (&#x27;standardscaler&#x27;,\n",
              "                                                  StandardScaler())]),\n",
              "                                 &lt;sklearn.compose._column_transformer.make_column_selector object at 0x7fe1f1fbd790&gt;)])</pre><b>Please rerun this cell to show the HTML repr or trust the notebook.</b></div><div class=\"sk-container\" hidden><div class=\"sk-item sk-dashed-wrapped\"><div class=\"sk-label-container\"><div class=\"sk-label sk-toggleable\"><input class=\"sk-toggleable__control sk-hidden--visually\" id=\"2542da96-957a-4976-a6d2-2b448b76601d\" type=\"checkbox\" ><label for=\"2542da96-957a-4976-a6d2-2b448b76601d\" class=\"sk-toggleable__label sk-toggleable__label-arrow\">ColumnTransformer</label><div class=\"sk-toggleable__content\"><pre>ColumnTransformer(transformers=[(&#x27;pipeline&#x27;,\n",
              "                                 Pipeline(steps=[(&#x27;simpleimputer&#x27;,\n",
              "                                                  SimpleImputer()),\n",
              "                                                 (&#x27;standardscaler&#x27;,\n",
              "                                                  StandardScaler())]),\n",
              "                                 &lt;sklearn.compose._column_transformer.make_column_selector object at 0x7fe1f1fbd790&gt;)])</pre></div></div></div><div class=\"sk-parallel\"><div class=\"sk-parallel-item\"><div class=\"sk-item\"><div class=\"sk-label-container\"><div class=\"sk-label sk-toggleable\"><input class=\"sk-toggleable__control sk-hidden--visually\" id=\"05a143eb-3654-47aa-88e6-2b3c5f9b0029\" type=\"checkbox\" ><label for=\"05a143eb-3654-47aa-88e6-2b3c5f9b0029\" class=\"sk-toggleable__label sk-toggleable__label-arrow\">pipeline</label><div class=\"sk-toggleable__content\"><pre>&lt;sklearn.compose._column_transformer.make_column_selector object at 0x7fe1f1fbd790&gt;</pre></div></div></div><div class=\"sk-serial\"><div class=\"sk-item\"><div class=\"sk-serial\"><div class=\"sk-item\"><div class=\"sk-estimator sk-toggleable\"><input class=\"sk-toggleable__control sk-hidden--visually\" id=\"0ffb83ad-e554-4f87-ab47-35b29821d134\" type=\"checkbox\" ><label for=\"0ffb83ad-e554-4f87-ab47-35b29821d134\" class=\"sk-toggleable__label sk-toggleable__label-arrow\">SimpleImputer</label><div class=\"sk-toggleable__content\"><pre>SimpleImputer()</pre></div></div></div><div class=\"sk-item\"><div class=\"sk-estimator sk-toggleable\"><input class=\"sk-toggleable__control sk-hidden--visually\" id=\"b75c7189-e172-43ae-9b51-68fdf62bff43\" type=\"checkbox\" ><label for=\"b75c7189-e172-43ae-9b51-68fdf62bff43\" class=\"sk-toggleable__label sk-toggleable__label-arrow\">StandardScaler</label><div class=\"sk-toggleable__content\"><pre>StandardScaler()</pre></div></div></div></div></div></div></div></div></div></div></div></div>"
            ]
          },
          "metadata": {},
          "execution_count": 36
        }
      ]
    },
    {
      "cell_type": "code",
      "source": [
        "#I will now make new variable names for both the training and testing data to get the most accurate results when running it through multiple models.\n",
        "X_train_processed= preprocessor.transform(X_train)\n",
        "X_test_processed= preprocessor.transform(X_test)"
      ],
      "metadata": {
        "id": "Div6u7YuY59g"
      },
      "execution_count": 37,
      "outputs": []
    },
    {
      "cell_type": "code",
      "source": [
        "#Now checking if the transformed data is correct and there are no missing values in the data after the split.\n",
        "print(np.isnan(X_train_processed).sum().sum(), 'missing values in training data')\n",
        "print(np.isnan(X_test_processed).sum().sum(), 'missing values in testing data')"
      ],
      "metadata": {
        "colab": {
          "base_uri": "https://localhost:8080/"
        },
        "id": "4LhJThKkZKr_",
        "outputId": "a859df24-61de-4aed-f0c3-ae7087c6b3cf"
      },
      "execution_count": 38,
      "outputs": [
        {
          "output_type": "stream",
          "name": "stdout",
          "text": [
            "0 missing values in training data\n",
            "0 missing values in testing data\n"
          ]
        }
      ]
    },
    {
      "cell_type": "code",
      "source": [
        "#First using a logistic regression model to see the results\n",
        "logreg= LogisticRegression()\n",
        "scaler= StandardScaler()\n",
        "logreg_pipe= make_pipeline(scaler, logreg)\n",
        "#training the model on the data, storing the information learned from the data\n",
        "#model is learning the relationship between X and y\n",
        "logreg_pipe.fit(X_train_processed, y_train)\n",
        "print(logreg_pipe.score(X_train_processed, y_train))\n",
        "print(logreg_pipe.score(X_test_processed, y_test))"
      ],
      "metadata": {
        "colab": {
          "base_uri": "https://localhost:8080/"
        },
        "id": "F8Fg4NAqZeiI",
        "outputId": "281502d0-206a-4c7e-828e-eec3f8babaee"
      },
      "execution_count": 39,
      "outputs": [
        {
          "output_type": "stream",
          "name": "stdout",
          "text": [
            "0.9558977035490606\n",
            "0.9374021909233177\n"
          ]
        }
      ]
    },
    {
      "cell_type": "markdown",
      "source": [
        "#Lets now hypertune the parameters on the Logistic Regression model and see which score would work best, using the l1 and l2 penalty."
      ],
      "metadata": {
        "id": "BWzML_Moa6Ve"
      }
    },
    {
      "cell_type": "code",
      "source": [
        "#create a list of c values and empty list for scores\n",
        "c_values= [0.0001, 0.001, 0.01, 0.1, 1, 10, 100, 1000]\n",
        "train_scores= []\n",
        "test_scores= []\n",
        "#iterate over the c values\n",
        "for c in c_values:\n",
        "  #instantiate a model with each value of c and fit it on the data\n",
        "  log_reg= LogisticRegression(C=c, max_iter=1000, solver='liblinear',penalty='l1')\n",
        "  log_reg_pipe= make_pipeline(scaler, log_reg)\n",
        "  log_reg_pipe.fit(X_train_processed, y_train)\n",
        "  #add the training and testing scores to our lists\n",
        "  train_scores.append(log_reg_pipe.score(X_train_processed, y_train))\n",
        "  test_scores.append(log_reg_pipe.score(X_test_processed, y_test))\n",
        "{c:score for c, score in zip(c_values, test_scores)}\n",
        "#l1 penalty"
      ],
      "metadata": {
        "colab": {
          "base_uri": "https://localhost:8080/"
        },
        "id": "zamy5nTjaiye",
        "outputId": "50a8013f-10a5-4a77-8489-fdda2d5f7e16"
      },
      "execution_count": 40,
      "outputs": [
        {
          "output_type": "execute_result",
          "data": {
            "text/plain": [
              "{0.0001: 0.9374021909233177,\n",
              " 0.001: 0.9374021909233177,\n",
              " 0.01: 0.9374021909233177,\n",
              " 0.1: 0.9374021909233177,\n",
              " 1: 0.9374021909233177,\n",
              " 10: 0.9374021909233177,\n",
              " 100: 0.9374021909233177,\n",
              " 1000: 0.9374021909233177}"
            ]
          },
          "metadata": {},
          "execution_count": 40
        }
      ]
    },
    {
      "cell_type": "code",
      "source": [
        "#create a list of c values and empty list for scores\n",
        "c_values= [0.0001, 0.001, 0.01, 0.1, 1, 10, 100, 1000]\n",
        "train_scores= []\n",
        "test_scores= []\n",
        "#iterate over the c values\n",
        "for c in c_values:\n",
        "  #instantiate a model with each value of c and fit it on the data\n",
        "  log_reg= LogisticRegression(C=c, max_iter=1000, solver='liblinear',penalty='l2')\n",
        "  log_reg_pipe= make_pipeline(scaler, log_reg)\n",
        "  log_reg_pipe.fit(X_train_processed, y_train)\n",
        "  #add the training and testing scores to our lists\n",
        "  train_scores.append(log_reg_pipe.score(X_train_processed, y_train))\n",
        "  test_scores.append(log_reg_pipe.score(X_test_processed, y_test))\n",
        "{c:score for c, score in zip(c_values, test_scores)}"
      ],
      "metadata": {
        "colab": {
          "base_uri": "https://localhost:8080/"
        },
        "id": "XzzNDzK_a3WB",
        "outputId": "4f59c70b-c63f-4bdd-e2ac-1c9cfd0a93c8"
      },
      "execution_count": 60,
      "outputs": [
        {
          "output_type": "execute_result",
          "data": {
            "text/plain": [
              "{0.0001: 0.9374021909233177,\n",
              " 0.001: 0.9374021909233177,\n",
              " 0.01: 0.9374021909233177,\n",
              " 0.1: 0.9374021909233177,\n",
              " 1: 0.9374021909233177,\n",
              " 10: 0.9374021909233177,\n",
              " 100: 0.9374021909233177,\n",
              " 1000: 0.9374021909233177}"
            ]
          },
          "metadata": {},
          "execution_count": 60
        }
      ]
    },
    {
      "cell_type": "markdown",
      "source": [
        "#It looks like we get the same score no matter which penalty we use on the Logistic Regression model. Lets try out a KNN model and see how the two differentiate. "
      ],
      "metadata": {
        "id": "nclBLxG5bSIM"
      }
    },
    {
      "cell_type": "code",
      "source": [
        "#KNNeighbors classifier, we will start with the n_neighbors value as 1 for the default. We will then tune this later.\n",
        "knn= KNeighborsClassifier(n_neighbors=1)\n",
        "knn_pipe= make_pipeline(scaler, knn)\n",
        "knn_pipe.fit(X_train_processed, y_train)"
      ],
      "metadata": {
        "colab": {
          "base_uri": "https://localhost:8080/",
          "height": 124
        },
        "id": "OLB9fz1Ebd_a",
        "outputId": "66391afe-a2f0-4a97-b9b8-b33636420805"
      },
      "execution_count": 42,
      "outputs": [
        {
          "output_type": "execute_result",
          "data": {
            "text/plain": [
              "Pipeline(steps=[('standardscaler', StandardScaler()),\n",
              "                ('kneighborsclassifier', KNeighborsClassifier(n_neighbors=1))])"
            ],
            "text/html": [
              "<style>#sk-73f0fe85-dce9-49ab-bfd7-17ee8349e1c1 {color: black;background-color: white;}#sk-73f0fe85-dce9-49ab-bfd7-17ee8349e1c1 pre{padding: 0;}#sk-73f0fe85-dce9-49ab-bfd7-17ee8349e1c1 div.sk-toggleable {background-color: white;}#sk-73f0fe85-dce9-49ab-bfd7-17ee8349e1c1 label.sk-toggleable__label {cursor: pointer;display: block;width: 100%;margin-bottom: 0;padding: 0.3em;box-sizing: border-box;text-align: center;}#sk-73f0fe85-dce9-49ab-bfd7-17ee8349e1c1 label.sk-toggleable__label-arrow:before {content: \"▸\";float: left;margin-right: 0.25em;color: #696969;}#sk-73f0fe85-dce9-49ab-bfd7-17ee8349e1c1 label.sk-toggleable__label-arrow:hover:before {color: black;}#sk-73f0fe85-dce9-49ab-bfd7-17ee8349e1c1 div.sk-estimator:hover label.sk-toggleable__label-arrow:before {color: black;}#sk-73f0fe85-dce9-49ab-bfd7-17ee8349e1c1 div.sk-toggleable__content {max-height: 0;max-width: 0;overflow: hidden;text-align: left;background-color: #f0f8ff;}#sk-73f0fe85-dce9-49ab-bfd7-17ee8349e1c1 div.sk-toggleable__content pre {margin: 0.2em;color: black;border-radius: 0.25em;background-color: #f0f8ff;}#sk-73f0fe85-dce9-49ab-bfd7-17ee8349e1c1 input.sk-toggleable__control:checked~div.sk-toggleable__content {max-height: 200px;max-width: 100%;overflow: auto;}#sk-73f0fe85-dce9-49ab-bfd7-17ee8349e1c1 input.sk-toggleable__control:checked~label.sk-toggleable__label-arrow:before {content: \"▾\";}#sk-73f0fe85-dce9-49ab-bfd7-17ee8349e1c1 div.sk-estimator input.sk-toggleable__control:checked~label.sk-toggleable__label {background-color: #d4ebff;}#sk-73f0fe85-dce9-49ab-bfd7-17ee8349e1c1 div.sk-label input.sk-toggleable__control:checked~label.sk-toggleable__label {background-color: #d4ebff;}#sk-73f0fe85-dce9-49ab-bfd7-17ee8349e1c1 input.sk-hidden--visually {border: 0;clip: rect(1px 1px 1px 1px);clip: rect(1px, 1px, 1px, 1px);height: 1px;margin: -1px;overflow: hidden;padding: 0;position: absolute;width: 1px;}#sk-73f0fe85-dce9-49ab-bfd7-17ee8349e1c1 div.sk-estimator {font-family: monospace;background-color: #f0f8ff;border: 1px dotted black;border-radius: 0.25em;box-sizing: border-box;margin-bottom: 0.5em;}#sk-73f0fe85-dce9-49ab-bfd7-17ee8349e1c1 div.sk-estimator:hover {background-color: #d4ebff;}#sk-73f0fe85-dce9-49ab-bfd7-17ee8349e1c1 div.sk-parallel-item::after {content: \"\";width: 100%;border-bottom: 1px solid gray;flex-grow: 1;}#sk-73f0fe85-dce9-49ab-bfd7-17ee8349e1c1 div.sk-label:hover label.sk-toggleable__label {background-color: #d4ebff;}#sk-73f0fe85-dce9-49ab-bfd7-17ee8349e1c1 div.sk-serial::before {content: \"\";position: absolute;border-left: 1px solid gray;box-sizing: border-box;top: 2em;bottom: 0;left: 50%;}#sk-73f0fe85-dce9-49ab-bfd7-17ee8349e1c1 div.sk-serial {display: flex;flex-direction: column;align-items: center;background-color: white;padding-right: 0.2em;padding-left: 0.2em;}#sk-73f0fe85-dce9-49ab-bfd7-17ee8349e1c1 div.sk-item {z-index: 1;}#sk-73f0fe85-dce9-49ab-bfd7-17ee8349e1c1 div.sk-parallel {display: flex;align-items: stretch;justify-content: center;background-color: white;}#sk-73f0fe85-dce9-49ab-bfd7-17ee8349e1c1 div.sk-parallel::before {content: \"\";position: absolute;border-left: 1px solid gray;box-sizing: border-box;top: 2em;bottom: 0;left: 50%;}#sk-73f0fe85-dce9-49ab-bfd7-17ee8349e1c1 div.sk-parallel-item {display: flex;flex-direction: column;position: relative;background-color: white;}#sk-73f0fe85-dce9-49ab-bfd7-17ee8349e1c1 div.sk-parallel-item:first-child::after {align-self: flex-end;width: 50%;}#sk-73f0fe85-dce9-49ab-bfd7-17ee8349e1c1 div.sk-parallel-item:last-child::after {align-self: flex-start;width: 50%;}#sk-73f0fe85-dce9-49ab-bfd7-17ee8349e1c1 div.sk-parallel-item:only-child::after {width: 0;}#sk-73f0fe85-dce9-49ab-bfd7-17ee8349e1c1 div.sk-dashed-wrapped {border: 1px dashed gray;margin: 0 0.4em 0.5em 0.4em;box-sizing: border-box;padding-bottom: 0.4em;background-color: white;position: relative;}#sk-73f0fe85-dce9-49ab-bfd7-17ee8349e1c1 div.sk-label label {font-family: monospace;font-weight: bold;background-color: white;display: inline-block;line-height: 1.2em;}#sk-73f0fe85-dce9-49ab-bfd7-17ee8349e1c1 div.sk-label-container {position: relative;z-index: 2;text-align: center;}#sk-73f0fe85-dce9-49ab-bfd7-17ee8349e1c1 div.sk-container {/* jupyter's `normalize.less` sets `[hidden] { display: none; }` but bootstrap.min.css set `[hidden] { display: none !important; }` so we also need the `!important` here to be able to override the default hidden behavior on the sphinx rendered scikit-learn.org. See: https://github.com/scikit-learn/scikit-learn/issues/21755 */display: inline-block !important;position: relative;}#sk-73f0fe85-dce9-49ab-bfd7-17ee8349e1c1 div.sk-text-repr-fallback {display: none;}</style><div id=\"sk-73f0fe85-dce9-49ab-bfd7-17ee8349e1c1\" class=\"sk-top-container\"><div class=\"sk-text-repr-fallback\"><pre>Pipeline(steps=[(&#x27;standardscaler&#x27;, StandardScaler()),\n",
              "                (&#x27;kneighborsclassifier&#x27;, KNeighborsClassifier(n_neighbors=1))])</pre><b>Please rerun this cell to show the HTML repr or trust the notebook.</b></div><div class=\"sk-container\" hidden><div class=\"sk-item sk-dashed-wrapped\"><div class=\"sk-label-container\"><div class=\"sk-label sk-toggleable\"><input class=\"sk-toggleable__control sk-hidden--visually\" id=\"1c44fd31-4169-4f4a-9279-cff223c76662\" type=\"checkbox\" ><label for=\"1c44fd31-4169-4f4a-9279-cff223c76662\" class=\"sk-toggleable__label sk-toggleable__label-arrow\">Pipeline</label><div class=\"sk-toggleable__content\"><pre>Pipeline(steps=[(&#x27;standardscaler&#x27;, StandardScaler()),\n",
              "                (&#x27;kneighborsclassifier&#x27;, KNeighborsClassifier(n_neighbors=1))])</pre></div></div></div><div class=\"sk-serial\"><div class=\"sk-item\"><div class=\"sk-estimator sk-toggleable\"><input class=\"sk-toggleable__control sk-hidden--visually\" id=\"adc07119-13fb-401a-9993-91d28c38731b\" type=\"checkbox\" ><label for=\"adc07119-13fb-401a-9993-91d28c38731b\" class=\"sk-toggleable__label sk-toggleable__label-arrow\">StandardScaler</label><div class=\"sk-toggleable__content\"><pre>StandardScaler()</pre></div></div></div><div class=\"sk-item\"><div class=\"sk-estimator sk-toggleable\"><input class=\"sk-toggleable__control sk-hidden--visually\" id=\"df9f71a0-e9d2-4d3c-ad02-e62ac5ba39a9\" type=\"checkbox\" ><label for=\"df9f71a0-e9d2-4d3c-ad02-e62ac5ba39a9\" class=\"sk-toggleable__label sk-toggleable__label-arrow\">KNeighborsClassifier</label><div class=\"sk-toggleable__content\"><pre>KNeighborsClassifier(n_neighbors=1)</pre></div></div></div></div></div></div></div>"
            ]
          },
          "metadata": {},
          "execution_count": 42
        }
      ]
    },
    {
      "cell_type": "code",
      "source": [
        "print(knn_pipe.score(X_train_processed, y_train))\n",
        "print(knn_pipe.score(X_test_processed, y_test))\n",
        "#This is actually a great score, but lets see what will happen with the scores when they are tuned."
      ],
      "metadata": {
        "colab": {
          "base_uri": "https://localhost:8080/"
        },
        "id": "3hOLpVjmbpqE",
        "outputId": "3ff3ee69-80c0-4e4c-ee91-d235dff99dd4"
      },
      "execution_count": 43,
      "outputs": [
        {
          "output_type": "stream",
          "name": "stdout",
          "text": [
            "1.0\n",
            "0.9162754303599374\n"
          ]
        }
      ]
    },
    {
      "cell_type": "code",
      "source": [
        "krange = range(1, 50)\n",
        "test_accuracies = []\n",
        "bestacc = 0\n",
        "bestk = 0\n",
        "for k in krange:\n",
        "  #find accuracy for each k\n",
        "  knn= KNeighborsClassifier(n_neighbors=k)\n",
        "  knn_pipe= make_pipeline(scaler, knn)\n",
        "  knn_pipe.fit(X_train_processed, y_train)\n",
        "  acc = accuracy_score(y_test, knn_pipe.predict(X_test_processed))\n",
        "  #if accuracy for this k is better than previous accuracies, set bestk = k\n",
        "  if acc > bestacc:\n",
        "    bestacc = acc\n",
        "    bestk = k\n",
        "\n",
        "  test_accuracies.append(acc)\n",
        "\n",
        "#plot accuracies over K\n",
        "plt.plot(krange, test_accuracies, label='Test K Scores')\n",
        "plt.show()\n",
        "\n",
        "#print best k and best accuracy\n",
        "print(f'Best K value is {bestk} \\nwith {bestacc} accuracy on the test set')\n",
        "#It looks like the best score was a 6, even better than the default 1 score, which was also very good as well.\n",
        "#Lets now change that to our default knn, for when we use it in future data"
      ],
      "metadata": {
        "colab": {
          "base_uri": "https://localhost:8080/",
          "height": 299
        },
        "id": "vWoq6ItIb2PA",
        "outputId": "41992e6c-ec81-4a58-e5e2-1c74973766e3"
      },
      "execution_count": 44,
      "outputs": [
        {
          "output_type": "display_data",
          "data": {
            "text/plain": [
              "<Figure size 432x288 with 1 Axes>"
            ],
            "image/png": "[encoded data removed]"
          },
          "metadata": {
            "needs_background": "light"
          }
        },
        {
          "output_type": "stream",
          "name": "stdout",
          "text": [
            "Best K value is 6 \n",
            "with 0.9374021909233177 accuracy on the test set\n"
          ]
        }
      ]
    },
    {
      "cell_type": "code",
      "source": [
        "knn= KNeighborsClassifier(n_neighbors=6)\n",
        "knn_pipe= make_pipeline(scaler, knn)\n",
        "knn_pipe.fit(X_train_processed, y_train)"
      ],
      "metadata": {
        "colab": {
          "base_uri": "https://localhost:8080/",
          "height": 124
        },
        "id": "W9JSGpFucTEN",
        "outputId": "4294df59-48ef-43ae-d4bd-d27b7a47dc2f"
      },
      "execution_count": 45,
      "outputs": [
        {
          "output_type": "execute_result",
          "data": {
            "text/plain": [
              "Pipeline(steps=[('standardscaler', StandardScaler()),\n",
              "                ('kneighborsclassifier', KNeighborsClassifier(n_neighbors=6))])"
            ],
            "text/html": [
              "<style>#sk-9ec81b10-7b6c-4700-86d0-15eb2535f60b {color: black;background-color: white;}#sk-9ec81b10-7b6c-4700-86d0-15eb2535f60b pre{padding: 0;}#sk-9ec81b10-7b6c-4700-86d0-15eb2535f60b div.sk-toggleable {background-color: white;}#sk-9ec81b10-7b6c-4700-86d0-15eb2535f60b label.sk-toggleable__label {cursor: pointer;display: block;width: 100%;margin-bottom: 0;padding: 0.3em;box-sizing: border-box;text-align: center;}#sk-9ec81b10-7b6c-4700-86d0-15eb2535f60b label.sk-toggleable__label-arrow:before {content: \"▸\";float: left;margin-right: 0.25em;color: #696969;}#sk-9ec81b10-7b6c-4700-86d0-15eb2535f60b label.sk-toggleable__label-arrow:hover:before {color: black;}#sk-9ec81b10-7b6c-4700-86d0-15eb2535f60b div.sk-estimator:hover label.sk-toggleable__label-arrow:before {color: black;}#sk-9ec81b10-7b6c-4700-86d0-15eb2535f60b div.sk-toggleable__content {max-height: 0;max-width: 0;overflow: hidden;text-align: left;background-color: #f0f8ff;}#sk-9ec81b10-7b6c-4700-86d0-15eb2535f60b div.sk-toggleable__content pre {margin: 0.2em;color: black;border-radius: 0.25em;background-color: #f0f8ff;}#sk-9ec81b10-7b6c-4700-86d0-15eb2535f60b input.sk-toggleable__control:checked~div.sk-toggleable__content {max-height: 200px;max-width: 100%;overflow: auto;}#sk-9ec81b10-7b6c-4700-86d0-15eb2535f60b input.sk-toggleable__control:checked~label.sk-toggleable__label-arrow:before {content: \"▾\";}#sk-9ec81b10-7b6c-4700-86d0-15eb2535f60b div.sk-estimator input.sk-toggleable__control:checked~label.sk-toggleable__label {background-color: #d4ebff;}#sk-9ec81b10-7b6c-4700-86d0-15eb2535f60b div.sk-label input.sk-toggleable__control:checked~label.sk-toggleable__label {background-color: #d4ebff;}#sk-9ec81b10-7b6c-4700-86d0-15eb2535f60b input.sk-hidden--visually {border: 0;clip: rect(1px 1px 1px 1px);clip: rect(1px, 1px, 1px, 1px);height: 1px;margin: -1px;overflow: hidden;padding: 0;position: absolute;width: 1px;}#sk-9ec81b10-7b6c-4700-86d0-15eb2535f60b div.sk-estimator {font-family: monospace;background-color: #f0f8ff;border: 1px dotted black;border-radius: 0.25em;box-sizing: border-box;margin-bottom: 0.5em;}#sk-9ec81b10-7b6c-4700-86d0-15eb2535f60b div.sk-estimator:hover {background-color: #d4ebff;}#sk-9ec81b10-7b6c-4700-86d0-15eb2535f60b div.sk-parallel-item::after {content: \"\";width: 100%;border-bottom: 1px solid gray;flex-grow: 1;}#sk-9ec81b10-7b6c-4700-86d0-15eb2535f60b div.sk-label:hover label.sk-toggleable__label {background-color: #d4ebff;}#sk-9ec81b10-7b6c-4700-86d0-15eb2535f60b div.sk-serial::before {content: \"\";position: absolute;border-left: 1px solid gray;box-sizing: border-box;top: 2em;bottom: 0;left: 50%;}#sk-9ec81b10-7b6c-4700-86d0-15eb2535f60b div.sk-serial {display: flex;flex-direction: column;align-items: center;background-color: white;padding-right: 0.2em;padding-left: 0.2em;}#sk-9ec81b10-7b6c-4700-86d0-15eb2535f60b div.sk-item {z-index: 1;}#sk-9ec81b10-7b6c-4700-86d0-15eb2535f60b div.sk-parallel {display: flex;align-items: stretch;justify-content: center;background-color: white;}#sk-9ec81b10-7b6c-4700-86d0-15eb2535f60b div.sk-parallel::before {content: \"\";position: absolute;border-left: 1px solid gray;box-sizing: border-box;top: 2em;bottom: 0;left: 50%;}#sk-9ec81b10-7b6c-4700-86d0-15eb2535f60b div.sk-parallel-item {display: flex;flex-direction: column;position: relative;background-color: white;}#sk-9ec81b10-7b6c-4700-86d0-15eb2535f60b div.sk-parallel-item:first-child::after {align-self: flex-end;width: 50%;}#sk-9ec81b10-7b6c-4700-86d0-15eb2535f60b div.sk-parallel-item:last-child::after {align-self: flex-start;width: 50%;}#sk-9ec81b10-7b6c-4700-86d0-15eb2535f60b div.sk-parallel-item:only-child::after {width: 0;}#sk-9ec81b10-7b6c-4700-86d0-15eb2535f60b div.sk-dashed-wrapped {border: 1px dashed gray;margin: 0 0.4em 0.5em 0.4em;box-sizing: border-box;padding-bottom: 0.4em;background-color: white;position: relative;}#sk-9ec81b10-7b6c-4700-86d0-15eb2535f60b div.sk-label label {font-family: monospace;font-weight: bold;background-color: white;display: inline-block;line-height: 1.2em;}#sk-9ec81b10-7b6c-4700-86d0-15eb2535f60b div.sk-label-container {position: relative;z-index: 2;text-align: center;}#sk-9ec81b10-7b6c-4700-86d0-15eb2535f60b div.sk-container {/* jupyter's `normalize.less` sets `[hidden] { display: none; }` but bootstrap.min.css set `[hidden] { display: none !important; }` so we also need the `!important` here to be able to override the default hidden behavior on the sphinx rendered scikit-learn.org. See: https://github.com/scikit-learn/scikit-learn/issues/21755 */display: inline-block !important;position: relative;}#sk-9ec81b10-7b6c-4700-86d0-15eb2535f60b div.sk-text-repr-fallback {display: none;}</style><div id=\"sk-9ec81b10-7b6c-4700-86d0-15eb2535f60b\" class=\"sk-top-container\"><div class=\"sk-text-repr-fallback\"><pre>Pipeline(steps=[(&#x27;standardscaler&#x27;, StandardScaler()),\n",
              "                (&#x27;kneighborsclassifier&#x27;, KNeighborsClassifier(n_neighbors=6))])</pre><b>Please rerun this cell to show the HTML repr or trust the notebook.</b></div><div class=\"sk-container\" hidden><div class=\"sk-item sk-dashed-wrapped\"><div class=\"sk-label-container\"><div class=\"sk-label sk-toggleable\"><input class=\"sk-toggleable__control sk-hidden--visually\" id=\"ba543027-d5d9-4ac2-b433-8ef077bfb598\" type=\"checkbox\" ><label for=\"ba543027-d5d9-4ac2-b433-8ef077bfb598\" class=\"sk-toggleable__label sk-toggleable__label-arrow\">Pipeline</label><div class=\"sk-toggleable__content\"><pre>Pipeline(steps=[(&#x27;standardscaler&#x27;, StandardScaler()),\n",
              "                (&#x27;kneighborsclassifier&#x27;, KNeighborsClassifier(n_neighbors=6))])</pre></div></div></div><div class=\"sk-serial\"><div class=\"sk-item\"><div class=\"sk-estimator sk-toggleable\"><input class=\"sk-toggleable__control sk-hidden--visually\" id=\"12618f25-5d2e-4066-8c37-4d6d4c7318c4\" type=\"checkbox\" ><label for=\"12618f25-5d2e-4066-8c37-4d6d4c7318c4\" class=\"sk-toggleable__label sk-toggleable__label-arrow\">StandardScaler</label><div class=\"sk-toggleable__content\"><pre>StandardScaler()</pre></div></div></div><div class=\"sk-item\"><div class=\"sk-estimator sk-toggleable\"><input class=\"sk-toggleable__control sk-hidden--visually\" id=\"8b2da390-dd93-4c05-88d6-1202e37f4af5\" type=\"checkbox\" ><label for=\"8b2da390-dd93-4c05-88d6-1202e37f4af5\" class=\"sk-toggleable__label sk-toggleable__label-arrow\">KNeighborsClassifier</label><div class=\"sk-toggleable__content\"><pre>KNeighborsClassifier(n_neighbors=6)</pre></div></div></div></div></div></div></div>"
            ]
          },
          "metadata": {},
          "execution_count": 45
        }
      ]
    },
    {
      "cell_type": "code",
      "source": [
        "print(knn_pipe.score(X_train_processed, y_train))\n",
        "print(knn_pipe.score(X_test_processed, y_test))\n",
        "#That is the same score we got for the logistic regression model. Which means you could use either model deciding on ones preference.\n",
        "#Personally I like the KNN model due to not having to use as much code and it looks better. "
      ],
      "metadata": {
        "colab": {
          "base_uri": "https://localhost:8080/"
        },
        "id": "Sxjp0Ew7cXma",
        "outputId": "c58c9b29-91ca-4be5-8023-b3894bf8461a"
      },
      "execution_count": 46,
      "outputs": [
        {
          "output_type": "stream",
          "name": "stdout",
          "text": [
            "0.9558977035490606\n",
            "0.9374021909233177\n"
          ]
        }
      ]
    },
    {
      "cell_type": "markdown",
      "source": [
        "#Lets now see what will happen when we use PCA in both the models"
      ],
      "metadata": {
        "id": "eZh6085rdWeb"
      }
    },
    {
      "cell_type": "code",
      "source": [
        "#knn and pca method\n",
        "pca = PCA()\n",
        "pipeline_pca_knn= make_pipeline(scaler,pca,knn)"
      ],
      "metadata": {
        "id": "xsABf3eCduKd"
      },
      "execution_count": 53,
      "outputs": []
    },
    {
      "cell_type": "code",
      "source": [
        "pipeline_pca_knn.fit(X_train_processed, y_train)"
      ],
      "metadata": {
        "colab": {
          "base_uri": "https://localhost:8080/",
          "height": 159
        },
        "id": "rHkKJ60ffcLo",
        "outputId": "cd490418-6bbc-4a62-9e9a-5329b99f7ce5"
      },
      "execution_count": 54,
      "outputs": [
        {
          "output_type": "execute_result",
          "data": {
            "text/plain": [
              "Pipeline(steps=[('standardscaler', StandardScaler()), ('pca', PCA()),\n",
              "                ('kneighborsclassifier', KNeighborsClassifier(n_neighbors=6))])"
            ],
            "text/html": [
              "<style>#sk-b6d10257-f4c0-4427-9f60-6e21c87af932 {color: black;background-color: white;}#sk-b6d10257-f4c0-4427-9f60-6e21c87af932 pre{padding: 0;}#sk-b6d10257-f4c0-4427-9f60-6e21c87af932 div.sk-toggleable {background-color: white;}#sk-b6d10257-f4c0-4427-9f60-6e21c87af932 label.sk-toggleable__label {cursor: pointer;display: block;width: 100%;margin-bottom: 0;padding: 0.3em;box-sizing: border-box;text-align: center;}#sk-b6d10257-f4c0-4427-9f60-6e21c87af932 label.sk-toggleable__label-arrow:before {content: \"▸\";float: left;margin-right: 0.25em;color: #696969;}#sk-b6d10257-f4c0-4427-9f60-6e21c87af932 label.sk-toggleable__label-arrow:hover:before {color: black;}#sk-b6d10257-f4c0-4427-9f60-6e21c87af932 div.sk-estimator:hover label.sk-toggleable__label-arrow:before {color: black;}#sk-b6d10257-f4c0-4427-9f60-6e21c87af932 div.sk-toggleable__content {max-height: 0;max-width: 0;overflow: hidden;text-align: left;background-color: #f0f8ff;}#sk-b6d10257-f4c0-4427-9f60-6e21c87af932 div.sk-toggleable__content pre {margin: 0.2em;color: black;border-radius: 0.25em;background-color: #f0f8ff;}#sk-b6d10257-f4c0-4427-9f60-6e21c87af932 input.sk-toggleable__control:checked~div.sk-toggleable__content {max-height: 200px;max-width: 100%;overflow: auto;}#sk-b6d10257-f4c0-4427-9f60-6e21c87af932 input.sk-toggleable__control:checked~label.sk-toggleable__label-arrow:before {content: \"▾\";}#sk-b6d10257-f4c0-4427-9f60-6e21c87af932 div.sk-estimator input.sk-toggleable__control:checked~label.sk-toggleable__label {background-color: #d4ebff;}#sk-b6d10257-f4c0-4427-9f60-6e21c87af932 div.sk-label input.sk-toggleable__control:checked~label.sk-toggleable__label {background-color: #d4ebff;}#sk-b6d10257-f4c0-4427-9f60-6e21c87af932 input.sk-hidden--visually {border: 0;clip: rect(1px 1px 1px 1px);clip: rect(1px, 1px, 1px, 1px);height: 1px;margin: -1px;overflow: hidden;padding: 0;position: absolute;width: 1px;}#sk-b6d10257-f4c0-4427-9f60-6e21c87af932 div.sk-estimator {font-family: monospace;background-color: #f0f8ff;border: 1px dotted black;border-radius: 0.25em;box-sizing: border-box;margin-bottom: 0.5em;}#sk-b6d10257-f4c0-4427-9f60-6e21c87af932 div.sk-estimator:hover {background-color: #d4ebff;}#sk-b6d10257-f4c0-4427-9f60-6e21c87af932 div.sk-parallel-item::after {content: \"\";width: 100%;border-bottom: 1px solid gray;flex-grow: 1;}#sk-b6d10257-f4c0-4427-9f60-6e21c87af932 div.sk-label:hover label.sk-toggleable__label {background-color: #d4ebff;}#sk-b6d10257-f4c0-4427-9f60-6e21c87af932 div.sk-serial::before {content: \"\";position: absolute;border-left: 1px solid gray;box-sizing: border-box;top: 2em;bottom: 0;left: 50%;}#sk-b6d10257-f4c0-4427-9f60-6e21c87af932 div.sk-serial {display: flex;flex-direction: column;align-items: center;background-color: white;padding-right: 0.2em;padding-left: 0.2em;}#sk-b6d10257-f4c0-4427-9f60-6e21c87af932 div.sk-item {z-index: 1;}#sk-b6d10257-f4c0-4427-9f60-6e21c87af932 div.sk-parallel {display: flex;align-items: stretch;justify-content: center;background-color: white;}#sk-b6d10257-f4c0-4427-9f60-6e21c87af932 div.sk-parallel::before {content: \"\";position: absolute;border-left: 1px solid gray;box-sizing: border-box;top: 2em;bottom: 0;left: 50%;}#sk-b6d10257-f4c0-4427-9f60-6e21c87af932 div.sk-parallel-item {display: flex;flex-direction: column;position: relative;background-color: white;}#sk-b6d10257-f4c0-4427-9f60-6e21c87af932 div.sk-parallel-item:first-child::after {align-self: flex-end;width: 50%;}#sk-b6d10257-f4c0-4427-9f60-6e21c87af932 div.sk-parallel-item:last-child::after {align-self: flex-start;width: 50%;}#sk-b6d10257-f4c0-4427-9f60-6e21c87af932 div.sk-parallel-item:only-child::after {width: 0;}#sk-b6d10257-f4c0-4427-9f60-6e21c87af932 div.sk-dashed-wrapped {border: 1px dashed gray;margin: 0 0.4em 0.5em 0.4em;box-sizing: border-box;padding-bottom: 0.4em;background-color: white;position: relative;}#sk-b6d10257-f4c0-4427-9f60-6e21c87af932 div.sk-label label {font-family: monospace;font-weight: bold;background-color: white;display: inline-block;line-height: 1.2em;}#sk-b6d10257-f4c0-4427-9f60-6e21c87af932 div.sk-label-container {position: relative;z-index: 2;text-align: center;}#sk-b6d10257-f4c0-4427-9f60-6e21c87af932 div.sk-container {/* jupyter's `normalize.less` sets `[hidden] { display: none; }` but bootstrap.min.css set `[hidden] { display: none !important; }` so we also need the `!important` here to be able to override the default hidden behavior on the sphinx rendered scikit-learn.org. See: https://github.com/scikit-learn/scikit-learn/issues/21755 */display: inline-block !important;position: relative;}#sk-b6d10257-f4c0-4427-9f60-6e21c87af932 div.sk-text-repr-fallback {display: none;}</style><div id=\"sk-b6d10257-f4c0-4427-9f60-6e21c87af932\" class=\"sk-top-container\"><div class=\"sk-text-repr-fallback\"><pre>Pipeline(steps=[(&#x27;standardscaler&#x27;, StandardScaler()), (&#x27;pca&#x27;, PCA()),\n",
              "                (&#x27;kneighborsclassifier&#x27;, KNeighborsClassifier(n_neighbors=6))])</pre><b>Please rerun this cell to show the HTML repr or trust the notebook.</b></div><div class=\"sk-container\" hidden><div class=\"sk-item sk-dashed-wrapped\"><div class=\"sk-label-container\"><div class=\"sk-label sk-toggleable\"><input class=\"sk-toggleable__control sk-hidden--visually\" id=\"c02c55a1-36f2-473d-91c7-3d4d4e56e29f\" type=\"checkbox\" ><label for=\"c02c55a1-36f2-473d-91c7-3d4d4e56e29f\" class=\"sk-toggleable__label sk-toggleable__label-arrow\">Pipeline</label><div class=\"sk-toggleable__content\"><pre>Pipeline(steps=[(&#x27;standardscaler&#x27;, StandardScaler()), (&#x27;pca&#x27;, PCA()),\n",
              "                (&#x27;kneighborsclassifier&#x27;, KNeighborsClassifier(n_neighbors=6))])</pre></div></div></div><div class=\"sk-serial\"><div class=\"sk-item\"><div class=\"sk-estimator sk-toggleable\"><input class=\"sk-toggleable__control sk-hidden--visually\" id=\"b5fe56a3-0b57-4212-8246-5edb88cc8177\" type=\"checkbox\" ><label for=\"b5fe56a3-0b57-4212-8246-5edb88cc8177\" class=\"sk-toggleable__label sk-toggleable__label-arrow\">StandardScaler</label><div class=\"sk-toggleable__content\"><pre>StandardScaler()</pre></div></div></div><div class=\"sk-item\"><div class=\"sk-estimator sk-toggleable\"><input class=\"sk-toggleable__control sk-hidden--visually\" id=\"1368cab2-38de-4130-b4e6-32e5c3c99ac3\" type=\"checkbox\" ><label for=\"1368cab2-38de-4130-b4e6-32e5c3c99ac3\" class=\"sk-toggleable__label sk-toggleable__label-arrow\">PCA</label><div class=\"sk-toggleable__content\"><pre>PCA()</pre></div></div></div><div class=\"sk-item\"><div class=\"sk-estimator sk-toggleable\"><input class=\"sk-toggleable__control sk-hidden--visually\" id=\"9f34faf0-89fd-4871-b49e-f120346bdc2c\" type=\"checkbox\" ><label for=\"9f34faf0-89fd-4871-b49e-f120346bdc2c\" class=\"sk-toggleable__label sk-toggleable__label-arrow\">KNeighborsClassifier</label><div class=\"sk-toggleable__content\"><pre>KNeighborsClassifier(n_neighbors=6)</pre></div></div></div></div></div></div></div>"
            ]
          },
          "metadata": {},
          "execution_count": 54
        }
      ]
    },
    {
      "cell_type": "code",
      "source": [
        "print(pipeline_pca_knn.score(X_train_processed, y_train))\n",
        "print(pipeline_pca_knn.score(X_test_processed, y_test))\n",
        "#It seems that even fitting a pca onto the data shows that I am still getting the same results no matter what. Which is nice cause it means I am getting consistency from the each model."
      ],
      "metadata": {
        "colab": {
          "base_uri": "https://localhost:8080/"
        },
        "id": "fZSFPBkrfw32",
        "outputId": "44219d05-2fd2-40b2-9cc5-61c0f5bde80d"
      },
      "execution_count": 55,
      "outputs": [
        {
          "output_type": "stream",
          "name": "stdout",
          "text": [
            "0.9558977035490606\n",
            "0.9374021909233177\n"
          ]
        }
      ]
    },
    {
      "cell_type": "code",
      "source": [
        "#Lets now see if a pca with logistic regression will maybe change the scores here.\n",
        "logreg_pipe_pca= make_pipeline(scaler,pca,logreg)"
      ],
      "metadata": {
        "id": "ZOWVx3mbgQpj"
      },
      "execution_count": 56,
      "outputs": []
    },
    {
      "cell_type": "code",
      "source": [
        "logreg_pipe_pca.fit(X_train_processed, y_train)"
      ],
      "metadata": {
        "colab": {
          "base_uri": "https://localhost:8080/",
          "height": 159
        },
        "id": "0B54CXHCgoCD",
        "outputId": "e0f67dc7-fd8c-4156-a10d-72cf565527f6"
      },
      "execution_count": 57,
      "outputs": [
        {
          "output_type": "execute_result",
          "data": {
            "text/plain": [
              "Pipeline(steps=[('standardscaler', StandardScaler()), ('pca', PCA()),\n",
              "                ('logisticregression', LogisticRegression())])"
            ],
            "text/html": [
              "<style>#sk-23a07c81-d70e-4bf2-b77b-1eb34111672a {color: black;background-color: white;}#sk-23a07c81-d70e-4bf2-b77b-1eb34111672a pre{padding: 0;}#sk-23a07c81-d70e-4bf2-b77b-1eb34111672a div.sk-toggleable {background-color: white;}#sk-23a07c81-d70e-4bf2-b77b-1eb34111672a label.sk-toggleable__label {cursor: pointer;display: block;width: 100%;margin-bottom: 0;padding: 0.3em;box-sizing: border-box;text-align: center;}#sk-23a07c81-d70e-4bf2-b77b-1eb34111672a label.sk-toggleable__label-arrow:before {content: \"▸\";float: left;margin-right: 0.25em;color: #696969;}#sk-23a07c81-d70e-4bf2-b77b-1eb34111672a label.sk-toggleable__label-arrow:hover:before {color: black;}#sk-23a07c81-d70e-4bf2-b77b-1eb34111672a div.sk-estimator:hover label.sk-toggleable__label-arrow:before {color: black;}#sk-23a07c81-d70e-4bf2-b77b-1eb34111672a div.sk-toggleable__content {max-height: 0;max-width: 0;overflow: hidden;text-align: left;background-color: #f0f8ff;}#sk-23a07c81-d70e-4bf2-b77b-1eb34111672a div.sk-toggleable__content pre {margin: 0.2em;color: black;border-radius: 0.25em;background-color: #f0f8ff;}#sk-23a07c81-d70e-4bf2-b77b-1eb34111672a input.sk-toggleable__control:checked~div.sk-toggleable__content {max-height: 200px;max-width: 100%;overflow: auto;}#sk-23a07c81-d70e-4bf2-b77b-1eb34111672a input.sk-toggleable__control:checked~label.sk-toggleable__label-arrow:before {content: \"▾\";}#sk-23a07c81-d70e-4bf2-b77b-1eb34111672a div.sk-estimator input.sk-toggleable__control:checked~label.sk-toggleable__label {background-color: #d4ebff;}#sk-23a07c81-d70e-4bf2-b77b-1eb34111672a div.sk-label input.sk-toggleable__control:checked~label.sk-toggleable__label {background-color: #d4ebff;}#sk-23a07c81-d70e-4bf2-b77b-1eb34111672a input.sk-hidden--visually {border: 0;clip: rect(1px 1px 1px 1px);clip: rect(1px, 1px, 1px, 1px);height: 1px;margin: -1px;overflow: hidden;padding: 0;position: absolute;width: 1px;}#sk-23a07c81-d70e-4bf2-b77b-1eb34111672a div.sk-estimator {font-family: monospace;background-color: #f0f8ff;border: 1px dotted black;border-radius: 0.25em;box-sizing: border-box;margin-bottom: 0.5em;}#sk-23a07c81-d70e-4bf2-b77b-1eb34111672a div.sk-estimator:hover {background-color: #d4ebff;}#sk-23a07c81-d70e-4bf2-b77b-1eb34111672a div.sk-parallel-item::after {content: \"\";width: 100%;border-bottom: 1px solid gray;flex-grow: 1;}#sk-23a07c81-d70e-4bf2-b77b-1eb34111672a div.sk-label:hover label.sk-toggleable__label {background-color: #d4ebff;}#sk-23a07c81-d70e-4bf2-b77b-1eb34111672a div.sk-serial::before {content: \"\";position: absolute;border-left: 1px solid gray;box-sizing: border-box;top: 2em;bottom: 0;left: 50%;}#sk-23a07c81-d70e-4bf2-b77b-1eb34111672a div.sk-serial {display: flex;flex-direction: column;align-items: center;background-color: white;padding-right: 0.2em;padding-left: 0.2em;}#sk-23a07c81-d70e-4bf2-b77b-1eb34111672a div.sk-item {z-index: 1;}#sk-23a07c81-d70e-4bf2-b77b-1eb34111672a div.sk-parallel {display: flex;align-items: stretch;justify-content: center;background-color: white;}#sk-23a07c81-d70e-4bf2-b77b-1eb34111672a div.sk-parallel::before {content: \"\";position: absolute;border-left: 1px solid gray;box-sizing: border-box;top: 2em;bottom: 0;left: 50%;}#sk-23a07c81-d70e-4bf2-b77b-1eb34111672a div.sk-parallel-item {display: flex;flex-direction: column;position: relative;background-color: white;}#sk-23a07c81-d70e-4bf2-b77b-1eb34111672a div.sk-parallel-item:first-child::after {align-self: flex-end;width: 50%;}#sk-23a07c81-d70e-4bf2-b77b-1eb34111672a div.sk-parallel-item:last-child::after {align-self: flex-start;width: 50%;}#sk-23a07c81-d70e-4bf2-b77b-1eb34111672a div.sk-parallel-item:only-child::after {width: 0;}#sk-23a07c81-d70e-4bf2-b77b-1eb34111672a div.sk-dashed-wrapped {border: 1px dashed gray;margin: 0 0.4em 0.5em 0.4em;box-sizing: border-box;padding-bottom: 0.4em;background-color: white;position: relative;}#sk-23a07c81-d70e-4bf2-b77b-1eb34111672a div.sk-label label {font-family: monospace;font-weight: bold;background-color: white;display: inline-block;line-height: 1.2em;}#sk-23a07c81-d70e-4bf2-b77b-1eb34111672a div.sk-label-container {position: relative;z-index: 2;text-align: center;}#sk-23a07c81-d70e-4bf2-b77b-1eb34111672a div.sk-container {/* jupyter's `normalize.less` sets `[hidden] { display: none; }` but bootstrap.min.css set `[hidden] { display: none !important; }` so we also need the `!important` here to be able to override the default hidden behavior on the sphinx rendered scikit-learn.org. See: https://github.com/scikit-learn/scikit-learn/issues/21755 */display: inline-block !important;position: relative;}#sk-23a07c81-d70e-4bf2-b77b-1eb34111672a div.sk-text-repr-fallback {display: none;}</style><div id=\"sk-23a07c81-d70e-4bf2-b77b-1eb34111672a\" class=\"sk-top-container\"><div class=\"sk-text-repr-fallback\"><pre>Pipeline(steps=[(&#x27;standardscaler&#x27;, StandardScaler()), (&#x27;pca&#x27;, PCA()),\n",
              "                (&#x27;logisticregression&#x27;, LogisticRegression())])</pre><b>Please rerun this cell to show the HTML repr or trust the notebook.</b></div><div class=\"sk-container\" hidden><div class=\"sk-item sk-dashed-wrapped\"><div class=\"sk-label-container\"><div class=\"sk-label sk-toggleable\"><input class=\"sk-toggleable__control sk-hidden--visually\" id=\"c6dfa4e8-b6e6-480d-b1aa-95ab73128f87\" type=\"checkbox\" ><label for=\"c6dfa4e8-b6e6-480d-b1aa-95ab73128f87\" class=\"sk-toggleable__label sk-toggleable__label-arrow\">Pipeline</label><div class=\"sk-toggleable__content\"><pre>Pipeline(steps=[(&#x27;standardscaler&#x27;, StandardScaler()), (&#x27;pca&#x27;, PCA()),\n",
              "                (&#x27;logisticregression&#x27;, LogisticRegression())])</pre></div></div></div><div class=\"sk-serial\"><div class=\"sk-item\"><div class=\"sk-estimator sk-toggleable\"><input class=\"sk-toggleable__control sk-hidden--visually\" id=\"4ddbdee1-02b4-4366-a0d2-50a849d553f4\" type=\"checkbox\" ><label for=\"4ddbdee1-02b4-4366-a0d2-50a849d553f4\" class=\"sk-toggleable__label sk-toggleable__label-arrow\">StandardScaler</label><div class=\"sk-toggleable__content\"><pre>StandardScaler()</pre></div></div></div><div class=\"sk-item\"><div class=\"sk-estimator sk-toggleable\"><input class=\"sk-toggleable__control sk-hidden--visually\" id=\"aff48e31-c5a6-43b7-b409-bdb7d789780b\" type=\"checkbox\" ><label for=\"aff48e31-c5a6-43b7-b409-bdb7d789780b\" class=\"sk-toggleable__label sk-toggleable__label-arrow\">PCA</label><div class=\"sk-toggleable__content\"><pre>PCA()</pre></div></div></div><div class=\"sk-item\"><div class=\"sk-estimator sk-toggleable\"><input class=\"sk-toggleable__control sk-hidden--visually\" id=\"c67ebb95-0e38-4586-aca6-c749e370b128\" type=\"checkbox\" ><label for=\"c67ebb95-0e38-4586-aca6-c749e370b128\" class=\"sk-toggleable__label sk-toggleable__label-arrow\">LogisticRegression</label><div class=\"sk-toggleable__content\"><pre>LogisticRegression()</pre></div></div></div></div></div></div></div>"
            ]
          },
          "metadata": {},
          "execution_count": 57
        }
      ]
    },
    {
      "cell_type": "code",
      "source": [
        "print(logreg_pipe_pca.score(X_train_processed, y_train))\n",
        "print(logreg_pipe_pca.score(X_test_processed, y_test))\n",
        "#It still seems no matter what I am doing no matter which model I will still manage to get the same results. Which the results are great."
      ],
      "metadata": {
        "colab": {
          "base_uri": "https://localhost:8080/"
        },
        "id": "OSEQVw9ygz3t",
        "outputId": "03ee071c-2641-4729-904d-2cf9b099b26b"
      },
      "execution_count": 58,
      "outputs": [
        {
          "output_type": "stream",
          "name": "stdout",
          "text": [
            "0.9558977035490606\n",
            "0.9374021909233177\n"
          ]
        }
      ]
    },
    {
      "cell_type": "code",
      "source": [],
      "metadata": {
        "id": "qMXqYzLzhHWo"
      },
      "execution_count": null,
      "outputs": []
    },
    {
      "cell_type": "markdown",
      "source": [
        "#I will use the magic cell to check the time it takes for each model and decide using which one is the fastest to determine which model would be suited best. Since this will be a model used for predicting future data and hundreds and thousands of new features will be added to the data."
      ],
      "metadata": {
        "id": "L8x-C-JuhIpj"
      }
    },
    {
      "cell_type": "code",
      "source": [
        "%%time\n",
        "#pca logistic regression time\n",
        "(logreg_pipe_pca.score(X_test_processed, y_test))"
      ],
      "metadata": {
        "colab": {
          "base_uri": "https://localhost:8080/"
        },
        "id": "4o4cTh6bhctH",
        "outputId": "2aaf48d4-606c-4cba-93bf-5a20b43fd828"
      },
      "execution_count": 61,
      "outputs": [
        {
          "output_type": "stream",
          "name": "stdout",
          "text": [
            "CPU times: user 3.55 ms, sys: 0 ns, total: 3.55 ms\n",
            "Wall time: 4.61 ms\n"
          ]
        },
        {
          "output_type": "execute_result",
          "data": {
            "text/plain": [
              "0.9374021909233177"
            ]
          },
          "metadata": {},
          "execution_count": 61
        }
      ]
    },
    {
      "cell_type": "code",
      "source": [
        "%%time \n",
        "#pca knn time\n",
        "(pipeline_pca_knn.score(X_test_processed, y_test))"
      ],
      "metadata": {
        "colab": {
          "base_uri": "https://localhost:8080/"
        },
        "id": "Yz31ZZ82hvJR",
        "outputId": "5388a77b-ba12-4de1-d370-82f2c2721649"
      },
      "execution_count": 62,
      "outputs": [
        {
          "output_type": "stream",
          "name": "stdout",
          "text": [
            "CPU times: user 71.8 ms, sys: 0 ns, total: 71.8 ms\n",
            "Wall time: 84.1 ms\n"
          ]
        },
        {
          "output_type": "execute_result",
          "data": {
            "text/plain": [
              "0.9374021909233177"
            ]
          },
          "metadata": {},
          "execution_count": 62
        }
      ]
    },
    {
      "cell_type": "code",
      "source": [
        "%%time\n",
        "#knn time\n",
        "(knn_pipe.score(X_test_processed, y_test))"
      ],
      "metadata": {
        "colab": {
          "base_uri": "https://localhost:8080/"
        },
        "id": "Xm-1EAHOh8tD",
        "outputId": "3517ee27-3a2f-4c00-df3b-6fffe694d23e"
      },
      "execution_count": 63,
      "outputs": [
        {
          "output_type": "stream",
          "name": "stdout",
          "text": [
            "CPU times: user 94.7 ms, sys: 0 ns, total: 94.7 ms\n",
            "Wall time: 111 ms\n"
          ]
        },
        {
          "output_type": "execute_result",
          "data": {
            "text/plain": [
              "0.9374021909233177"
            ]
          },
          "metadata": {},
          "execution_count": 63
        }
      ]
    },
    {
      "cell_type": "code",
      "source": [
        "%%time\n",
        "#logistic regression time\n",
        "(logreg_pipe.score(X_test_processed, y_test))"
      ],
      "metadata": {
        "colab": {
          "base_uri": "https://localhost:8080/"
        },
        "id": "snxJZ0GAiVY_",
        "outputId": "fe424762-e850-4899-8fab-8568616c6b0f"
      },
      "execution_count": 64,
      "outputs": [
        {
          "output_type": "stream",
          "name": "stdout",
          "text": [
            "CPU times: user 1.67 ms, sys: 53 µs, total: 1.72 ms\n",
            "Wall time: 5.67 ms\n"
          ]
        },
        {
          "output_type": "execute_result",
          "data": {
            "text/plain": [
              "0.9374021909233177"
            ]
          },
          "metadata": {},
          "execution_count": 64
        }
      ]
    },
    {
      "cell_type": "markdown",
      "source": [
        "#So it seems as if the logistic regression model has the fastest time but not by a lot as compared to all the other models. So personally I would now go with the pca knn model. Its not a huge difference between all the other models and personally I like the look of the knn model the most compared to the others."
      ],
      "metadata": {
        "id": "XtEyyXxRibeL"
      }
    }
  ]
}